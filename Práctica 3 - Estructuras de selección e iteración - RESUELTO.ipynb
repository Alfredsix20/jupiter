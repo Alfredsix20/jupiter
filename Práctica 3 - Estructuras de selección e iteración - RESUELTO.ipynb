{
 "cells": [
  {
   "cell_type": "markdown",
   "id": "91d4297d",
   "metadata": {},
   "source": [
    "# Práctica 3 - Conociendo estructuras de selección e iteración en Python 3 (if, for, while)\n",
    "Autor: Claudio Morales D.<br>\n",
    "https://github.com/cmoralesd/conociendo-python <br>\n",
    "Otoño 2023<br>\n",
    "<br>\n",
    "Para profundizar en conceptos y otros aspectos de programación con Python, recomiendo consultar el curso en línea de la Escuela de Ingenierías Industriales de la Universidad de Valencia, \"Fundamentos de Programación en Python\", disponible en este enlace: https://www2.eii.uva.es/fund_inf/python/index.html\n",
    "\n"
   ]
  },
  {
   "cell_type": "markdown",
   "id": "c09146b2",
   "metadata": {},
   "source": [
    "## 1. Selección con 'if ... elif ... else'"
   ]
  },
  {
   "cell_type": "code",
   "execution_count": null,
   "id": "a039d367",
   "metadata": {},
   "outputs": [],
   "source": [
    "# La estructura de selección más simple es 'if'. Se basa en evaluar la veracidad de una condición.\n",
    "# Cualquier expresión, variable o función que arroje como resultado un valor de tipo 'bool' puede\n",
    "# ser utilizada como condición.\n",
    "# La o las instrucciones que deben ejecutarse en el caso que se cumpla la condición, deben quedar indentadas\n",
    "# a cuatro (4) espacios a la derecha del nivel de indentación de 'if'.\n",
    "\n",
    "num = 2\n",
    "if num == 2:\n",
    "    # Este bloque de código se ejecuta sólo si la condición se cumple\n",
    "    print('se cumple la condición')\n"
   ]
  },
  {
   "cell_type": "code",
   "execution_count": null,
   "id": "6a8db0c9",
   "metadata": {},
   "outputs": [],
   "source": [
    "# Agregando 'else' es posible ejecutar otro conjunto de instrucciones en caso que la condición no se cumpla.\n",
    "# No olvidar que el nivel de indentación determina el nivel jerárquico en que se ejecutan las instrucciones.\n",
    "num = 2\n",
    "if num == 2:\n",
    "    # Este bloque de código se ejecuta si la condición se cumple\n",
    "    print('se cumple la condición')\n",
    "else:\n",
    "    # Este bloque de código se ejecuta si la condición no se cumple\n",
    "    print('no se cumple la condición')\n",
    "    "
   ]
  },
  {
   "cell_type": "code",
   "execution_count": null,
   "id": "58a34cf3",
   "metadata": {},
   "outputs": [],
   "source": [
    "# En caso que se deban evaluar múltiples condiciones excluyentes, se emplea 'elif'\n",
    "num = 2\n",
    "if type(num) is int:\n",
    "    # Si se cumple la primera condición se ejecuta esta sección\n",
    "    print('es un número entero')\n",
    "elif type(num) is float:\n",
    "     # Si se cumple la segunda condición se ejecuta esta sección\n",
    "    print('es un número real')\n",
    "else:\n",
    "    print('no es un número')\n",
    "    "
   ]
  },
  {
   "cell_type": "code",
   "execution_count": null,
   "id": "7b338150",
   "metadata": {},
   "outputs": [],
   "source": [
    "# Si hay una única instrucción a ser ejecutada tras evaluar una condición, es posible\n",
    "# escribir todo en una sola línea: if <condición>: <instrucción>\n",
    "num = 2\n",
    "if num < 0: print('ha ingresado un número negativo') \n"
   ]
  },
  {
   "cell_type": "code",
   "execution_count": null,
   "id": "b76eb12f",
   "metadata": {},
   "outputs": [],
   "source": [
    "# El resultado de una selección if ... else también puede ser escrita en una única línea.\n",
    "# La sintaxis es: <valor si verdadero> if <condicion> else <valor si falso>\n",
    "num = 2\n",
    "res = \"negativo\" if num < 0 else \"positivo\"\n",
    "res"
   ]
  },
  {
   "cell_type": "markdown",
   "id": "3e29a7ae",
   "metadata": {},
   "source": [
    "## 2. Iteraciones con 'while'"
   ]
  },
  {
   "cell_type": "code",
   "execution_count": null,
   "id": "4b38cfc9",
   "metadata": {},
   "outputs": [],
   "source": [
    "# La estructura 'while' permite repetir un bloque de código mientras se mantenga una condición.\n",
    "num = 1\n",
    "while num < 10:\n",
    "    # este bloque de código se ejecuta cíclicamente, mientras la condición sea True\n",
    "    print(num)\n",
    "    num += 1\n",
    "\n",
    "print(\"ciclo concluido\")"
   ]
  },
  {
   "cell_type": "code",
   "execution_count": null,
   "id": "1857f333",
   "metadata": {},
   "outputs": [],
   "source": [
    "# Al utilizar 'while' se debe considerar que durante su ejecución debe haber una instrucción que,\n",
    "# en algún momento, haga que la condición sea falsa y, de esa forma, se salga del ciclo.\n",
    "\n",
    "print('guardando en una lista todos los números enteros entre 1 y 10')\n",
    "lista = []\n",
    "num = 1\n",
    "while num <= 10:\n",
    "    lista.append(num)\n",
    "    num += 1\n",
    "print(lista)\n"
   ]
  },
  {
   "cell_type": "code",
   "execution_count": null,
   "id": "4adea6fc",
   "metadata": {},
   "outputs": [],
   "source": [
    "# Un ciclo de iteración también puede romperse con la instrucción 'break'\n",
    "\n",
    "print('guardando en una lista todos los múltiplos de 3 hasta un número máximo')\n",
    "lista = []\n",
    "num = 1\n",
    "num_max = 17\n",
    "while True:\n",
    "    if num % 3 == 0: \n",
    "        lista.append(num)\n",
    "    num += 1\n",
    "    if num > num_max: break\n",
    "\n",
    "print(lista)\n"
   ]
  },
  {
   "cell_type": "markdown",
   "id": "a58b915f",
   "metadata": {},
   "source": [
    "## 3. Iteraciones con 'for'"
   ]
  },
  {
   "cell_type": "code",
   "execution_count": null,
   "id": "fef20db0",
   "metadata": {},
   "outputs": [],
   "source": [
    "# Una estructura 'for' se utiliza para repetir un bloque de código mientras recorre una colección\n",
    "# de elementos, uno por  uno.\n",
    "# Una forma típica de usar 'for' es en conjunto con range(<valor inicial>, <valor final>, <paso>)\n",
    "\n",
    "for x in range(0, 10, 1):\n",
    "    # este bloque de código se ejecuta cíclicamente, para todos los elementos del rango\n",
    "    print(x)"
   ]
  },
  {
   "cell_type": "code",
   "execution_count": null,
   "id": "85ebcbc5",
   "metadata": {},
   "outputs": [],
   "source": [
    "# Una estructura 'for' junto con 'range' puede usarse para recorrer los elementos de una lista\n",
    "\n",
    "semana = ['lun', 'mar', 'mie', 'jue', 'vie', 'sab', 'dom']\n",
    "for i in range(len(semana)):\n",
    "    # la variable i puede ser usada como índice de los elementos de una lista\n",
    "    print(i)\n",
    "    "
   ]
  },
  {
   "cell_type": "code",
   "execution_count": null,
   "id": "1cb86d32",
   "metadata": {},
   "outputs": [],
   "source": [
    "# Pero los elementos de una lista también pueden recorrerse directamente con 'for', \n",
    "# cualquiera sea el tipo de elementos que estén contenidos en la lista.\n",
    "\n",
    "semana = ['lun', 'mar', 'mie', 'jue', 'vie', 'sab', 'dom']\n",
    "for dia in semana:\n",
    "    print(dia)\n"
   ]
  },
  {
   "cell_type": "code",
   "execution_count": null,
   "id": "3bc16eb7",
   "metadata": {},
   "outputs": [],
   "source": [
    "# Esta sintaxis también funciona para tuplas y otras colecciones iterables:\n",
    "\n",
    "semana = ('lun', 'mar', 'mie', 'jue', 'vie', 'sab', 'dom')\n",
    "for dia in semana:\n",
    "    print(dia)\n",
    "    "
   ]
  },
  {
   "cell_type": "code",
   "execution_count": null,
   "id": "2ad294f6",
   "metadata": {},
   "outputs": [],
   "source": [
    "# Los elementos de un diccionario son tuplas (key, value), que pueden recorrerse con el método <dict>.items()\n",
    "\n",
    "param = {'caudal': 0.82, 'pression': 23.5, 'open': True}\n",
    "\n",
    "for data in param.items():\n",
    "    print(data)\n",
    "    "
   ]
  },
  {
   "cell_type": "code",
   "execution_count": null,
   "id": "27b3c8c9",
   "metadata": {},
   "outputs": [],
   "source": [
    "# Los valores almacenados en un diccionario pueden consultarse  con facilidad, recorriendo las claves <dict>.keys()\n",
    "\n",
    "param = {'flujo': 0.82, 'presion': 23.5, 'estado': True}\n",
    "\n",
    "for key in param.keys():\n",
    "    print(f'el valor de {key} es {param[key]}')\n",
    "    "
   ]
  },
  {
   "cell_type": "code",
   "execution_count": null,
   "id": "3d4d8b52",
   "metadata": {},
   "outputs": [],
   "source": [
    "# La instrucción 'break' puede utilizarse cuando sea requerido interrumpir el ciclo 'for'\n",
    "\n",
    "letra = 'n'\n",
    "alfabeto = 'abcdefghijklmnopqrstuvxyz'\n",
    "for i in range(len(alfabeto)):\n",
    "    if alfabeto[i] == letra: \n",
    "        break\n",
    "        \n",
    "print(f'la {letra} es la letra número {i} del alfabeto')\n"
   ]
  },
  {
   "cell_type": "code",
   "execution_count": null,
   "id": "e9a179bb",
   "metadata": {},
   "outputs": [],
   "source": [
    "# Se pueden hacer ciclos 'for' anidados para recorrer múltiples colecciones de elementos.\n",
    "# Esto es utilizado comúnmente para recorrer uno a uno los elementos de una matriz.\n",
    "\n",
    "matriz = [[0.1, 1.1, 2.3, 0.7],\n",
    "          [2.4, 5.1, 0.4, 1.9],\n",
    "          [3.5, 7.1, 3.2, 1.1]]\n",
    "\n",
    "elementos_unicos = []\n",
    "elementos_repetidos = []\n",
    "\n",
    "for i in range(3):\n",
    "    # Primero se recorre por filas\n",
    "    for j in range(4):\n",
    "        # Luego se recorre por columnas\n",
    "        if matriz[i][j] not in elementos_unicos:\n",
    "            elementos_unicos.append(matriz[i][j])\n",
    "        else:\n",
    "            elementos_repetidos.append(matriz[i][j])\n",
    "\n",
    "print('elementos unicos:', elementos_unicos)\n",
    "print('elementos repetidos:', elementos_repetidos)\n"
   ]
  },
  {
   "cell_type": "markdown",
   "id": "1f7508e9",
   "metadata": {},
   "source": [
    "## ACTIVIDAD:\n",
    "Se tiene un conjunto de datos obtenidos mediante la lectura remota de los parámetros de un controlador de motor, a una tasa de una lectura por segundo.\n",
    "\n",
    "Los datos se reciben mediante comunicación serial en forma de texto y se almacenan en la variable **mensaje_recibido**. Los datos recibidos en este mensaje siempre se reciben en el mismo orden y representan: voltaje, corriente, valor pwm y estado del motor (0 = apagado, 1 = encendido).\n",
    "\n",
    "Se tiene una serie de datos recibidos en una variable **mensaje_recibido**, que representa 60 segundos de registro de datos.\n",
    "\n",
    "Escriba un código para leer y organizar estos datos desde **mensaje_recibido**. Proceda de la siguiente forma:\n",
    "\n",
    "1. Separe los datos contenidos en **mensaje_recibido** en una lista, donde cada elemento de la lista corresponda a uno de los datos, manteniendo el mismo orden. La lista resultante deberá almacenarse en una variable llamada **datos_recibidos**, que contendrá los datos recibidos en la forma ['0.05', '0.04', '0', '0', '0.04'... ] \n",
    "\n",
    "2. Agrupe los datos de la lista **datos_recibidos** en una nueva lista **datos_agrupados**, donde cada elemento corresponda a su vez a una lista con cuatro valores, que representan datos según: [**'v_motor'**, **'i_motor'**, **'set_pwm'**, **'motor_on'**]. La variable **datos_recibidos** representa un arreglo matricial, donde cada fila representa una lectura de datos y las columnas representan las variables de interés en cada lectura. Los valores de **v_motor** e **i_motor** deben ser de tipo **float**; el valor de **set_pwm** debe ser de tipo **int**; el valor de **motor_on** debe ser de tipo **bool** (**False** si el motor está apagado y **True** si el motor está encendido. Así, la lista **datos_agrupados**, debiera contener 60 elementos y verse aproximadamente como: **[[0.05, 0.04, 0, False], [0.03, 0.09, 0, False], [... ]]**\n",
    "\n",
    "3. Los elementos de la variable **datos_agrupados** contienen toda la información del estado de los motores en un periodo de tiempo de 60 segundos. Pero nos interesa únicamente la información de los instantes en que el motor estaba en funcionamiento. En dos nuevas listas llamadas **v_motor** e **i_motor**, agregue los valores de voltaje y corriente únicamente de aquellos momentos en que el motor estaba encendido. Para ello, en cada grupo de 4 datos almacenados en la variable **datos_agrupados**, consulte el estado del elemento que representa la variable **'motor_on'**. En caso que la variable sea **True**, agregue el valor que representa **v_motor** en la lista correspondiente y el valor que representa **i_motor** en la lista correspondiente.\n",
    "\n",
    "4. Finalmente, muestre los valores almacenados en **v_motor** e **i_motor**.\n",
    "\n",
    "**NOTA:** Además de estructuras **if**, **for** y **while**, deberá utilizar algunas funciones y métodos estudiados en las actividades anteriores.\n"
   ]
  },
  {
   "cell_type": "code",
   "execution_count": 1,
   "id": "424f4757",
   "metadata": {},
   "outputs": [],
   "source": [
    "# Los datos recibidos se obtienen como una cadena de texto desde el puerto serial,\n",
    "# ordenados segun: voltaje, corriente, valor pwm y estado del motor (0 = apagado, 1 = encendido)\n",
    "mensaje_recibido = '0.05,0.04,0,0,0.03,0.09,0,0,0.06,0.02,0,0,0.07,0.0,0,0,0.09,0.02,0,0,0.03,0.05,0,0,0.08,0.01,0,0,0.07,0.05,0,0,0.09,0.07,0,0,0.01,0.01,0,0,0.06,0.08,0,0,23.79,0.46,9,1,23.9,1.26,27,1,24.19,1.68,56,1,24.56,2.83,88,1,23.73,2.94,101,1,24.4,3.74,120,1,23.89,3.87,120,1,23.9,3.05,120,1,23.89,3.54,120,1,0.09,0.02,0,0,0.06,0.04,0,0,0.0,0.07,0,0,24.16,0.77,12,1,24.31,1.3,47,1,23.93,2.8,89,1,24.55,3.47,110,1,24.46,3.61,120,1,24.2,3.05,120,1,24.05,3.92,120,1,23.76,3.85,120,1,24.18,3.55,120,1,24.41,3.76,120,1,24.42,3.81,120,1,24.57,3.86,120,1,23.91,3.38,120,1,24.62,3.11,120,1,23.84,3.62,120,1,23.9,3.68,120,1,24.37,3.31,120,1,0.03,0.07,0,0,0.02,0.07,0,0,0.07,0.05,0,0,0.06,0.05,0,0,0.0,0.09,0,0,0.08,0.01,0,0,0.01,0.08,0,0,0.04,0.08,0,0,0.05,0.09,0,0,0.08,0.0,0,0,0.09,0.08,0,0,0.09,0.02,0,0,0.07,0.01,0,0,0.0,0.09,0,0,0.09,0.01,0,0,0.01,0.01,0,0,0.05,0.06,0,0,0.02,0.06,0,0,0.03,0.09,0,0,0.07,0.08,0,0'\n",
    "\n",
    "# La información útil es voltaje y corriente del motor, que deben registrarse en dos listas v_motor e i_motor.\n",
    "# Estas listas sólo deben contener los datos correspondientes a los periodos que el motor está encendido.\n",
    "v_motor = []\n",
    "i_motor = []\n",
    "\n",
    "# ESCRIBA SU CÓDIGO AQUÍ -->\n",
    "\n",
    "# 1. Separamos los datos recibidos en una lista.\n",
    "# La variable datos_recibidos contrendrá elementos de tipo 'str' en la forma ['0.05', '0.04', '0', '0', '0.03'... ] \n",
    "datos_recibidos = mensaje_recibido.split(',')\n",
    "\n",
    "# 2. Agrupamos los datos en listas de 4 elementos\n",
    "# Datos agrupados tendrá la forma [['0.05', '0.04', '0', '0'], ['0.03'... ]]\n",
    "datos_agrupados = []\n",
    "i = 0\n",
    "while i < len(datos_recibidos):\n",
    "    nuevo_elemento = [datos_recibidos[i], datos_recibidos[i+1], datos_recibidos[i+2], datos_recibidos[i+3]]\n",
    "    datos_agrupados.append(nuevo_elemento)\n",
    "    i += 4\n",
    "\n",
    "# 3. Para cada grupo de 4 elementos, observamos que el cuarto elemento (motor_on) tenga valor '1'\n",
    "#    Si es verdadero, almacenamos los datos de 'v_motor' e 'i_motor', convertidos a tipo 'float'\n",
    "for grupo in datos_agrupados:\n",
    "    if grupo[3] == '1':\n",
    "        v_motor.append(float(grupo[0]))\n",
    "        i_motor.append(float(grupo[1]))\n"
   ]
  },
  {
   "cell_type": "code",
   "execution_count": 2,
   "id": "9dfc089c",
   "metadata": {},
   "outputs": [
    {
     "name": "stdout",
     "output_type": "stream",
     "text": [
      "... v_motor contiene 26 datos\n",
      "... i_motor contiene 26 datos\n",
      "el número de datos almacenados es correcto\n",
      "el tipo de datos en v_motor es [<class 'float'>], lo cual es correcto\n",
      "el tipo de datos en i_motor es [<class 'float'>], lo cual es correcto\n"
     ]
    }
   ],
   "source": [
    "# Si su código funciona correctamente, el siguiente código debiera ejecutarse sin errores:\n",
    "# *** NO MODIFIQUE ESTA CELDA ***\n",
    "\n",
    "print('... v_motor no contiene datos' if len(v_motor) == 0 else '... v_motor contiene {} datos'.format(len(v_motor)))\n",
    "print('... i_motor no contiene datos' if len(v_motor) == 0 else '... i_motor contiene {} datos'.format(len(i_motor)))\n",
    "print('el número de datos almacenados es {}'.format('correcto' if (len(v_motor) == 26 and len(i_motor) == 26) else 'incorrecto'))\n",
    "\n",
    "v_motor_types, i_motor_types = [], []\n",
    "\n",
    "for value in v_motor:\n",
    "    if type(value) not in v_motor_types: v_motor_types.append(type(value))\n",
    "        \n",
    "for value in i_motor:\n",
    "    if type(value) not in i_motor_types: i_motor_types.append(type(value))\n",
    "    \n",
    "print('el tipo de datos en v_motor es {}, lo cual es {}'.format(v_motor_types, 'correcto' if (float in v_motor_types and len(v_motor_types)==1) else 'incorrecto'))\n",
    "print('el tipo de datos en i_motor es {}, lo cual es {}'.format(i_motor_types, 'correcto' if (float in i_motor_types and len(i_motor_types)==1) else 'incorrecto'))\n"
   ]
  },
  {
   "cell_type": "code",
   "execution_count": null,
   "id": "145a712f",
   "metadata": {},
   "outputs": [],
   "source": []
  }
 ],
 "metadata": {
  "kernelspec": {
   "display_name": "Python 3 (ipykernel)",
   "language": "python",
   "name": "python3"
  },
  "language_info": {
   "codemirror_mode": {
    "name": "ipython",
    "version": 3
   },
   "file_extension": ".py",
   "mimetype": "text/x-python",
   "name": "python",
   "nbconvert_exporter": "python",
   "pygments_lexer": "ipython3",
   "version": "3.10.6"
  }
 },
 "nbformat": 4,
 "nbformat_minor": 5
}
