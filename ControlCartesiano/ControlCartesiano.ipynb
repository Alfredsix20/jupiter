{
 "cells": [
  {
   "cell_type": "markdown",
   "id": "40dacb44",
   "metadata": {},
   "source": [
    "<h2>Taller 10 - Pick and place usando control cartesiano</h2>\n",
    "<br>Autor: Claudio Morales D.\n",
    "<br>Centro de Automatización y Robótica Inacap\n",
    "<br>Santiago, Chile, otoño 2023\n"
   ]
  },
  {
   "cell_type": "markdown",
   "id": "7429bec0",
   "metadata": {},
   "source": [
    "Desde CoppeliaSim, abrir la escena 'scara_pick_n_place.ttt'\n"
   ]
  },
  {
   "cell_type": "markdown",
   "id": "c8f2767d",
   "metadata": {},
   "source": [
    "<h3>1. Nos conectamos y enviamos al robot a una posición inicial deseada</h3>"
   ]
  },
  {
   "cell_type": "code",
   "execution_count": 9,
   "id": "b542af6f",
   "metadata": {},
   "outputs": [],
   "source": [
    "# Cargamos las librerías necesarias\n",
    "import coppeliasim_zmqremoteapi_client\n",
    "import time\n",
    "from cartesian import delta_q\n"
   ]
  },
  {
   "cell_type": "code",
   "execution_count": 10,
   "id": "52ab2294",
   "metadata": {},
   "outputs": [],
   "source": [
    "# creamos un cliente de conexión a CoppeliaSim y obtenemos acceso a sim\n",
    "client = coppeliasim_zmqremoteapi_client.RemoteAPIClient()\n",
    "sim = client.getObject('sim')"
   ]
  },
  {
   "cell_type": "code",
   "execution_count": 11,
   "id": "8eaf94ae",
   "metadata": {},
   "outputs": [
    {
     "name": "stdout",
     "output_type": "stream",
     "text": [
      "19 22 26 31\n"
     ]
    },
    {
     "data": {
      "text/plain": [
       "1"
      ]
     },
     "execution_count": 11,
     "metadata": {},
     "output_type": "execute_result"
    }
   ],
   "source": [
    "# Obtenemos los manejadores para las articulaciones y el actuador final\n",
    "j1 = sim.getObject('/base/joint1')\n",
    "j2 = sim.getObject('/base/joint2')\n",
    "j3 = sim.getObject('/base/joint3')\n",
    "suctionPad = sim.getObject('/base/suctionPad')\n",
    "\n",
    "print(j1, j2, j3, suctionPad)\n",
    "\n",
    "# Enviamos al robot la posición deseada\n",
    "q1_val = 0 * 3.1416/180\n",
    "q2_val = 0.2\n",
    "q3_val = 0 * 3.1416/180\n",
    "\n",
    "sim.setJointTargetPosition(j1, q1_val)\n",
    "sim.setJointTargetPosition(j2, q2_val)\n",
    "sim.setJointTargetPosition(j3, q3_val)"
   ]
  },
  {
   "cell_type": "markdown",
   "id": "439f9dcf",
   "metadata": {},
   "source": [
    "<h3>2. Verificamos que el suctionPad funciona bien</h3>"
   ]
  },
  {
   "cell_type": "code",
   "execution_count": 15,
   "id": "2cccd34c",
   "metadata": {},
   "outputs": [],
   "source": [
    "def setEffector(val):\n",
    "# acciona el efector final (suctionPad)\n",
    "# val es Int con valor 0 ó 1 para desactivar o activar el actuador final.\n",
    "    objectHandle = sim.getObject('/base/suctionPad')\n",
    "    scriptHandle = sim.getScript(sim.scripttype_childscript,objectHandle)\n",
    "    res = sim.callScriptFunction('setEffector',scriptHandle,val)\n",
    "    return res"
   ]
  },
  {
   "cell_type": "code",
   "execution_count": 16,
   "id": "ed3e80c2",
   "metadata": {},
   "outputs": [
    {
     "data": {
      "text/plain": [
       "'suctionPad OFF'"
      ]
     },
     "execution_count": 16,
     "metadata": {},
     "output_type": "execute_result"
    }
   ],
   "source": [
    "# verificamos si el Pad se activa y desactiva\n",
    "setEffector(0)"
   ]
  },
  {
   "cell_type": "code",
   "execution_count": 17,
   "id": "92934544",
   "metadata": {},
   "outputs": [
    {
     "data": {
      "text/plain": [
       "1"
      ]
     },
     "execution_count": 17,
     "metadata": {},
     "output_type": "execute_result"
    }
   ],
   "source": [
    "# 1. Nos posicionamos sobre la caja\n",
    "q1_val = 45 * 3.1416/180\n",
    "q2_val = 0.2\n",
    "q3_val = 45 * 3.1416/180\n",
    "\n",
    "sim.setJointTargetPosition(j1, q1_val)\n",
    "sim.setJointTargetPosition(j2, q2_val)\n",
    "sim.setJointTargetPosition(j3, q3_val)"
   ]
  },
  {
   "cell_type": "code",
   "execution_count": 18,
   "id": "08abc040",
   "metadata": {},
   "outputs": [
    {
     "data": {
      "text/plain": [
       "1"
      ]
     },
     "execution_count": 18,
     "metadata": {},
     "output_type": "execute_result"
    }
   ],
   "source": [
    "# 2, Bajamos a la altura de la caja\n",
    "q2_val = 0.022\n",
    "sim.setJointTargetPosition(j2, q2_val)"
   ]
  },
  {
   "cell_type": "code",
   "execution_count": 19,
   "id": "a17f91e5",
   "metadata": {},
   "outputs": [
    {
     "data": {
      "text/plain": [
       "'suctionPad ON'"
      ]
     },
     "execution_count": 19,
     "metadata": {},
     "output_type": "execute_result"
    }
   ],
   "source": [
    "#activamos el actuador\n",
    "setEffector(1)"
   ]
  },
  {
   "cell_type": "code",
   "execution_count": 20,
   "id": "b9828f96",
   "metadata": {},
   "outputs": [
    {
     "data": {
      "text/plain": [
       "1"
      ]
     },
     "execution_count": 20,
     "metadata": {},
     "output_type": "execute_result"
    }
   ],
   "source": [
    "# y subimos\n",
    "q2_val = 0.2\n",
    "sim.setJointTargetPosition(j2, q2_val)"
   ]
  },
  {
   "cell_type": "code",
   "execution_count": 21,
   "id": "c1820d43",
   "metadata": {},
   "outputs": [
    {
     "data": {
      "text/plain": [
       "'suctionPad OFF'"
      ]
     },
     "execution_count": 21,
     "metadata": {},
     "output_type": "execute_result"
    }
   ],
   "source": [
    "#desactivamos el actuador\n",
    "setEffector(0)"
   ]
  },
  {
   "cell_type": "code",
   "execution_count": 22,
   "id": "c188846a",
   "metadata": {},
   "outputs": [
    {
     "data": {
      "text/plain": [
       "1"
      ]
     },
     "execution_count": 22,
     "metadata": {},
     "output_type": "execute_result"
    }
   ],
   "source": [
    "# recogemos con pausas de tiempo\n",
    "sim.setJointTargetPosition(j2, 0.022)\n",
    "time.sleep(3)\n",
    "setEffector(1)\n",
    "sim.setJointTargetPosition(j2, 0.2)\n",
    "time.sleep(3)\n",
    "sim.setJointTargetPosition(j2, 0.022)\n",
    "time.sleep(3)\n",
    "setEffector(0)\n",
    "sim.setJointTargetPosition(j2, 0.2)"
   ]
  },
  {
   "cell_type": "markdown",
   "id": "61e99d04",
   "metadata": {},
   "source": [
    "<h3>3. Movemos con control cartesiano </h3>"
   ]
  },
  {
   "cell_type": "code",
   "execution_count": 23,
   "id": "3b400d79",
   "metadata": {},
   "outputs": [
    {
     "data": {
      "text/plain": [
       "1"
      ]
     },
     "execution_count": 23,
     "metadata": {},
     "output_type": "execute_result"
    }
   ],
   "source": [
    "# 1. posicionamos el robot\n",
    "q1_inicial = 45 * 3.1416/180\n",
    "q2_inicial = 0.2\n",
    "q3_inicial = 45 * 3.1416/180\n",
    "\n",
    "sim.setJointTargetPosition(j1, q1_inicial)\n",
    "sim.setJointTargetPosition(j2, q2_inicial)\n",
    "sim.setJointTargetPosition(j3, q3_inicial)"
   ]
  },
  {
   "cell_type": "code",
   "execution_count": 402,
   "id": "e8b1f3bf",
   "metadata": {},
   "outputs": [
    {
     "name": "stdout",
     "output_type": "stream",
     "text": [
      "[0.2732293213777428, 0.19996331350565238, 1.3815028059263783]\n",
      "Matrix([[0.277497424612153], [0.199963313505652], [1.42326368383769]])\n"
     ]
    },
    {
     "data": {
      "text/plain": [
       "1"
      ]
     },
     "execution_count": 402,
     "metadata": {},
     "output_type": "execute_result"
    }
   ],
   "source": [
    "# leemos la posicón actual\n",
    "q1_actual = sim.getJointPosition(j1)\n",
    "q2_actual = sim.getJointPosition(j2)\n",
    "q3_actual = sim.getJointPosition(j3)\n",
    "q_actual = [q1_actual, q2_actual, q3_actual]\n",
    "print(q_actual)\n",
    "\n",
    "# definimos el vector de desplazamiento\n",
    "dx = 0.01\n",
    "dy = 0\n",
    "delta_x = [dx, dy, 0]\n",
    "\n",
    "# calculamos la nueva posición\n",
    "q_nuevo = sympy.Matrix(q_actual) + delta_q(q_actual, delta_x)\n",
    "print(q_nuevo)\n",
    "\n",
    "# enviamos al robot las nuevas posiciones\n",
    "sim.setJointTargetPosition(j1, float(q_nuevo[0]))\n",
    "sim.setJointTargetPosition(j2, float(q_nuevo[1]))\n",
    "sim.setJointTargetPosition(j3, float(q_nuevo[2]))"
   ]
  },
  {
   "cell_type": "code",
   "execution_count": 30,
   "id": "edbbe54f",
   "metadata": {},
   "outputs": [
    {
     "data": {
      "text/plain": [
       "1"
      ]
     },
     "execution_count": 30,
     "metadata": {},
     "output_type": "execute_result"
    }
   ],
   "source": [
    "# recogemos con pausas de tiempo\n",
    "sim.setJointTargetPosition(j2, 0.022)\n",
    "time.sleep(3)\n",
    "setEffector(1)\n",
    "sim.setJointTargetPosition(j2, 0.2)\n",
    "time.sleep(3)\n",
    "sim.setJointTargetPosition(j2, 0.022)\n",
    "time.sleep(3)\n",
    "setEffector(0)\n",
    "sim.setJointTargetPosition(j2, 0.2)"
   ]
  },
  {
   "cell_type": "code",
   "execution_count": null,
   "id": "8d6ef8aa",
   "metadata": {},
   "outputs": [],
   "source": [
    "#include <Wire.h> // Si es necesario utilizar I2C\n",
    "#include <Joystick.h> // Biblioteca del Joystick\n",
    "\n",
    "Joystick joystick; // Crear una instancia del Joystick\n",
    "\n",
    "void setup() {\n",
    "  Serial.begin(9600); // Inicializar comunicación serial\n",
    "  joystick.begin(); // Inicializar Joystick\n",
    "}\n",
    "\n",
    "void loop() {\n",
    "  // Leer coordenadas x, y y estado del botón del Joystick\n",
    "  int x = joystick.getX();\n",
    "  int y = joystick.getY();\n",
    "  int buttonState = joystick.getButton();\n",
    "\n",
    "  // Enviar datos por el puerto serial\n",
    "  Serial.print(\"X:\");\n",
    "  Serial.print(x);\n",
    "  Serial.print(\",Y:\");\n",
    "  Serial.print(y);\n",
    "  Serial.print(\",Button:\");\n",
    "  Serial.println(buttonState);\n",
    "\n",
    "  delay(100); // Retardo para evitar lecturas demasiado frecuentes\n",
    "}"
   ]
  },
  {
   "cell_type": "code",
   "execution_count": null,
   "id": "66e427ea",
   "metadata": {},
   "outputs": [],
   "source": [
    "// Librerías necesarias\n",
    "#include <Wire.h>\n",
    "\n",
    "// Pines para el joystick analógico\n",
    "int pinX = A0;\n",
    "int pinY = A1;\n",
    "int pinButton = 2;\n",
    "\n",
    "void setup() {\n",
    "  Serial.begin(9600); // Inicializar comunicación serial\n",
    "  pinMode(pinButton, INPUT_PULLUP); // Configurar el pin del botón como entrada con resistencia pull-up\n",
    "}\n",
    "\n",
    "void loop() {\n",
    "  // Leer valores analógicos del joystick y estado del botón\n",
    "  int x = analogRead(pinX);\n",
    "  int y = analogRead(pinY);\n",
    "  int buttonState = digitalRead(pinButton);\n",
    "\n",
    "  // Enviar datos por el puerto serial\n",
    "  Serial.print(\"X:\");\n",
    "  Serial.print(x);\n",
    "  Serial.print(\",Y:\");\n",
    "  Serial.print(y);\n",
    "  Serial.print(\",Button:\");\n",
    "  Serial.println(buttonState);\n",
    "\n",
    "  delay(100); // Retardo para evitar lecturas demasiado frecuentes\n",
    "}\n"
   ]
  },
  {
   "cell_type": "code",
   "execution_count": 29,
   "id": "89ca1a00",
   "metadata": {},
   "outputs": [
    {
     "ename": "SyntaxError",
     "evalue": "invalid syntax (1064174889.py, line 2)",
     "output_type": "error",
     "traceback": [
      "\u001b[1;36m  Cell \u001b[1;32mIn[29], line 2\u001b[1;36m\u001b[0m\n\u001b[1;33m    include <Wire.h>\u001b[0m\n\u001b[1;37m                    ^\u001b[0m\n\u001b[1;31mSyntaxError\u001b[0m\u001b[1;31m:\u001b[0m invalid syntax\n"
     ]
    }
   ],
   "source": [
    "#// Librerías necesarias\n",
    "#include <Wire.h>\n",
    "\n",
    "#// Pines para el joystick analógico\n",
    "int pinX = A0;\n",
    "int pinY = A1;\n",
    "int pinButton = A2;\n",
    "\n",
    "#// Variables para almacenar los valores del joystick y el estado del botón\n",
    "int joyX;\n",
    "int joyY;\n",
    "int buttonState;\n",
    "int prevButtonState = HIGH;\n",
    "bool suctionActivated = false;\n",
    "\n",
    "void setup() {\n",
    "  Serial.begin(9600); // Inicializar comunicación serial\n",
    "  pinMode(pinButton, INPUT_PULLUP); // Configurar el pin del botón como entrada con resistencia pull-up\n",
    "}\n",
    "\n",
    "void loop() {\n",
    "  #// Leer valores analógicos del joystick y estado del botón\n",
    "  joyX = analogRead(pinX);\n",
    "  joyY = analogRead(pinY);\n",
    "  buttonState = digitalRead(pinButton);\n",
    "\n",
    "  #// Enviar los valores por el puerto serial\n",
    "  Serial.print(\"X:\");\n",
    "  Serial.print(joyX);\n",
    "  Serial.print(\",Y:\");\n",
    "  Serial.print(joyY);\n",
    "  Serial.print(\",Button:\");\n",
    "  Serial.println(buttonState);\n",
    "\n",
    "  #// Verificar si se ha pulsado el botón\n",
    "  if (buttonState != prevButtonState) {\n",
    "    if (buttonState == LOW) {\n",
    "      // El botón ha sido pulsado\n",
    "      suctionActivated = !suctionActivated; // Cambiar el estado de la ventosa\n",
    "      if (suctionActivated) {\n",
    "        Serial.println(\"Suction Activated\");\n",
    "      } else {\n",
    "        Serial.println(\"Suction Deactivated\");\n",
    "      }\n",
    "    }\n",
    "    prevButtonState = buttonState;\n",
    "  }\n",
    "\n",
    "  delay(100); // #Retardo para evitar lecturas demasiado frecuentes\n",
    "}\n"
   ]
  },
  {
   "cell_type": "code",
   "execution_count": 39,
   "id": "345ec1d7",
   "metadata": {},
   "outputs": [
    {
     "ename": "IndentationError",
     "evalue": "unexpected indent (2586890871.py, line 8)",
     "output_type": "error",
     "traceback": [
      "\u001b[1;36m  Cell \u001b[1;32mIn[39], line 8\u001b[1;36m\u001b[0m\n\u001b[1;33m    serialport = serial.Serial('/dev/ttyUSB0', 9600)\u001b[0m\n\u001b[1;37m    ^\u001b[0m\n\u001b[1;31mIndentationError\u001b[0m\u001b[1;31m:\u001b[0m unexpected indent\n"
     ]
    }
   ],
   "source": [
    "# librerías requeridas\n",
    "import serial  # librería pyserial, para comunicación con los puertos serial < pip install pyserial >\n",
    "import time    # para el manejo de eventos de tiempo, nativa de Python\n",
    "import pandas as pd  # para el manejo de archivos de datos < pip install pandas >\n",
    "import matplotlib.pyplot as plt # para realizar gráficos < pip install matplotlib >\n",
    "\n",
    "# Establecer la conexión con el puerto serial\n",
    "  serialport = serial.Serial('/dev/ttyUSB0', 9600)\n",
    "\n",
    "# Establecer la conexión con la escena de CoppeliaSim\n",
    "context = zmq.Context()\n",
    "socket = context.socket(zmq.REQ)\n",
    "socket.connect(\"tcp://127.0.0.1:5555\")  # Reemplaza con la dirección correcta\n",
    "\n",
    "# Función para enviar comandos a CoppeliaSim\n",
    "def enviar_comando(comando):\n",
    "    socket.send_string(comando)\n",
    "    respuesta = socket.recv()\n",
    "    return respuesta\n",
    "\n",
    "# Control de las articulaciones y el actuador de la ventosa\n",
    "def controlar_robot(articulaciones, ventosa_activada):\n",
    "    # Código para controlar las articulaciones y el actuador en CoppeliaSim\n",
    "    # Utiliza la función enviar_comando para enviar los comandos adecuados\n",
    "\n",
    "    # Ejemplo:\n",
    "    comando = f\"SetJointPosition articulacion1 {articulaciones[0]}\"\n",
    "    enviar_comando(comando)\n",
    "\n",
    "    comando = f\"SetJointPosition articulacion2 {articulaciones[1]}\"\n",
    "    enviar_comando(comando)\n",
    "\n",
    "    comando = f\"SetJointPosition articulacion3 {articulaciones[2]}\"\n",
    "    enviar_comando(comando)\n",
    "\n",
    "    comando = f\"SetActuatorState ventosa {ventosa_activada}\"\n",
    "    enviar_comando(comando)\n",
    "\n",
    "# Loop principal\n",
    "while True:\n",
    "    # Leer los datos desde el puerto serial\n",
    "    datos_serial = ser.readline().decode().strip()\n",
    "\n",
    "    # Procesar los datos\n",
    "    coordenadas = datos_serial.split(\",\")\n",
    "    x = int(coordenadas[0].split(\":\")[1])\n",
    "    y = int(coordenadas[1].split(\":\")[1])\n",
    "    boton = int(coordenadas[2].split(\":\")[1])\n",
    "\n",
    "    # Realizar el procesamiento y control del robot\n",
    "\n",
    "    # Procesamiento de coordenadas del joystick para controlar las articulaciones\n",
    "    angulo1 = map(x, 0, 1023, 0, 180)  # Mapear el valor de x a un rango de ángulos para la articulación 1\n",
    "    angulo2 = map(y, 0, 1023, 0, 180)  # Mapear el valor de y a un rango de ángulos para la articulación 2\n",
    "\n",
    "    # Control del actuador de la ventosa\n",
    "    ventosa_activada = bool(boton)\n",
    "\n",
    "    # Control del brazo robótico en CoppeliaSim\n",
    "    articulaciones = [angulo1, angulo2, 0]  # Agrega los ángulos para la articulación 3 si es necesario\n",
    "    controlar_robot(articulaciones, ventosa_activada)\n",
    "\n",
    "    time.sleep(0.1)  # Tasa de lectura de aproximadamente 100 ms\n",
    "\n"
   ]
  },
  {
   "cell_type": "code",
   "execution_count": null,
   "id": "82392d0f",
   "metadata": {},
   "outputs": [],
   "source": []
  },
  {
   "cell_type": "code",
   "execution_count": null,
   "id": "7fe03f17",
   "metadata": {},
   "outputs": [],
   "source": []
  },
  {
   "cell_type": "code",
   "execution_count": null,
   "id": "670e28ac",
   "metadata": {},
   "outputs": [],
   "source": []
  }
 ],
 "metadata": {
  "kernelspec": {
   "display_name": "Python 3 (ipykernel)",
   "language": "python",
   "name": "python3"
  },
  "language_info": {
   "codemirror_mode": {
    "name": "ipython",
    "version": 3
   },
   "file_extension": ".py",
   "mimetype": "text/x-python",
   "name": "python",
   "nbconvert_exporter": "python",
   "pygments_lexer": "ipython3",
   "version": "3.10.9"
  }
 },
 "nbformat": 4,
 "nbformat_minor": 5
}
