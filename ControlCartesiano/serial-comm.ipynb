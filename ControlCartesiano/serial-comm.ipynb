{
 "cells": [
  {
   "cell_type": "markdown",
   "id": "6b4a548f",
   "metadata": {},
   "source": [
    "# serial-comm: comunicación y registro de datos por puerto serial\n",
    "Autor: Claudio Morales D.<br>\n",
    "https://github.com/cmoralesd/serial-comm <br>\n",
    "Otoño 2023<br>\n",
    "<br>\n",
    "Código base para establecer comunicación por puerto serial entre un dispositivo Arduino (o similar) y un script de Python, utilizando la librería **pyserial**, controlar entradas y salidas del módulo Arduino mediante valores numéricos intercambiados en formato de texto, registrar datos en un archivo CSV, procesar los datos utilizando las herramientas básicas de la librería **pandas** y obtener gráficos de los datos registrados utilizando **matplotlib.pyplot**.\n",
    "\n",
    "Para comprender las características generales de la comunicación serial, consulte: https://hetpro-store.com/TUTORIALES/puerto-serial/\n",
    "\n",
    "Los archivos para programación del módulo Arduino se encuentran en https://github.com/cmoralesd/serial-comm\n"
   ]
  },
  {
   "cell_type": "code",
   "execution_count": 6,
   "id": "d642818d",
   "metadata": {},
   "outputs": [],
   "source": [
    "# librerías requeridas\n",
    "import serial  # librería pyserial, para comunicación con los puertos serial < pip install pyserial >\n",
    "import time    # para el manejo de eventos de tiempo, nativa de Python\n",
    "import pandas as pd  # para el manejo de archivos de datos < pip install pandas >\n",
    "import matplotlib.pyplot as plt # para realizar gráficos < pip install matplotlib >\n",
    "\n",
    "\n",
    "# funciones para enviar y recibir mensajes en formato de texto, codificado en UTF-8\n",
    "# los mensajes utilizan como terminador un caracter de final de línea '\\n'\n",
    "def encode_send(ser, texto):\n",
    "    enc = f'{texto}\\n'.encode('UTF-8')\n",
    "    ser.write(enc)\n",
    "\n",
    "def decode_response(ser):\n",
    "    message_from_serial = ser.readline()\n",
    "    res = message_from_serial[:-1].decode()\n",
    "    return res\n"
   ]
  },
  {
   "cell_type": "markdown",
   "id": "4a19c388",
   "metadata": {},
   "source": [
    "### 1. Código base en esquema request-response\n",
    "\n",
    "El esquema de comunicación utilizado es **maestro-esclavo** (master-slave) en modo **request-response** (requerimiento-respuesta): sólo un dispositivo puede iniciar la comunicación enviando un requerimiento y el otro dispositivo responde. \n",
    "\n",
    "En este caso, el script de Python siempre inicia la comunicación, con un mensaje de texto que contiene dos valores enteros separados por una coma (,). El dispositivo Arduino recibe el mensaje, lo procesa, y envía una respuesta.\n",
    "\n",
    "El código utilizado en Arduino es: **serial-comm.ino**"
   ]
  },
  {
   "cell_type": "code",
   "execution_count": 7,
   "id": "fb622889",
   "metadata": {},
   "outputs": [
    {
     "ename": "SerialException",
     "evalue": "could not open port '/dev/ttyUSB0': FileNotFoundError(2, 'El sistema no puede encontrar la ruta especificada.', None, 3)",
     "output_type": "error",
     "traceback": [
      "\u001b[1;31m---------------------------------------------------------------------------\u001b[0m",
      "\u001b[1;31mSerialException\u001b[0m                           Traceback (most recent call last)",
      "Cell \u001b[1;32mIn[7], line 5\u001b[0m\n\u001b[0;32m      1\u001b[0m \u001b[38;5;66;03m# Esquema básico para request-response\u001b[39;00m\n\u001b[0;32m      2\u001b[0m \u001b[38;5;66;03m# El código utilizado en Arduino es: serial-comm.ino\u001b[39;00m\n\u001b[0;32m      3\u001b[0m \n\u001b[0;32m      4\u001b[0m \u001b[38;5;66;03m# 1. Inicializa el puerto de comunicación y espera a que esté listo\u001b[39;00m\n\u001b[1;32m----> 5\u001b[0m serialport \u001b[38;5;241m=\u001b[39m \u001b[43mserial\u001b[49m\u001b[38;5;241;43m.\u001b[39;49m\u001b[43mSerial\u001b[49m\u001b[43m(\u001b[49m\u001b[38;5;124;43m'\u001b[39;49m\u001b[38;5;124;43m/dev/ttyUSB0\u001b[39;49m\u001b[38;5;124;43m'\u001b[39;49m\u001b[43m,\u001b[49m\u001b[43m \u001b[49m\u001b[38;5;241;43m9600\u001b[39;49m\u001b[43m)\u001b[49m\n\u001b[0;32m      6\u001b[0m time\u001b[38;5;241m.\u001b[39msleep(\u001b[38;5;241m0.1\u001b[39m)   \u001b[38;5;66;03m# tiempo de espera recomendado: 100 ms\u001b[39;00m\n\u001b[0;32m      8\u001b[0m \u001b[38;5;66;03m# 2. Preparamos el mensaje a ser transmitido\u001b[39;00m\n",
      "File \u001b[1;32m~\\AppData\\Roaming\\Python\\Python310\\site-packages\\serial\\serialwin32.py:33\u001b[0m, in \u001b[0;36mSerial.__init__\u001b[1;34m(self, *args, **kwargs)\u001b[0m\n\u001b[0;32m     31\u001b[0m \u001b[38;5;28mself\u001b[39m\u001b[38;5;241m.\u001b[39m_overlapped_read \u001b[38;5;241m=\u001b[39m \u001b[38;5;28;01mNone\u001b[39;00m\n\u001b[0;32m     32\u001b[0m \u001b[38;5;28mself\u001b[39m\u001b[38;5;241m.\u001b[39m_overlapped_write \u001b[38;5;241m=\u001b[39m \u001b[38;5;28;01mNone\u001b[39;00m\n\u001b[1;32m---> 33\u001b[0m \u001b[38;5;28msuper\u001b[39m(Serial, \u001b[38;5;28mself\u001b[39m)\u001b[38;5;241m.\u001b[39m\u001b[38;5;21m__init__\u001b[39m(\u001b[38;5;241m*\u001b[39margs, \u001b[38;5;241m*\u001b[39m\u001b[38;5;241m*\u001b[39mkwargs)\n",
      "File \u001b[1;32m~\\AppData\\Roaming\\Python\\Python310\\site-packages\\serial\\serialutil.py:244\u001b[0m, in \u001b[0;36mSerialBase.__init__\u001b[1;34m(self, port, baudrate, bytesize, parity, stopbits, timeout, xonxoff, rtscts, write_timeout, dsrdtr, inter_byte_timeout, exclusive, **kwargs)\u001b[0m\n\u001b[0;32m    241\u001b[0m     \u001b[38;5;28;01mraise\u001b[39;00m \u001b[38;5;167;01mValueError\u001b[39;00m(\u001b[38;5;124m'\u001b[39m\u001b[38;5;124munexpected keyword arguments: \u001b[39m\u001b[38;5;132;01m{!r}\u001b[39;00m\u001b[38;5;124m'\u001b[39m\u001b[38;5;241m.\u001b[39mformat(kwargs))\n\u001b[0;32m    243\u001b[0m \u001b[38;5;28;01mif\u001b[39;00m port \u001b[38;5;129;01mis\u001b[39;00m \u001b[38;5;129;01mnot\u001b[39;00m \u001b[38;5;28;01mNone\u001b[39;00m:\n\u001b[1;32m--> 244\u001b[0m     \u001b[38;5;28;43mself\u001b[39;49m\u001b[38;5;241;43m.\u001b[39;49m\u001b[43mopen\u001b[49m\u001b[43m(\u001b[49m\u001b[43m)\u001b[49m\n",
      "File \u001b[1;32m~\\AppData\\Roaming\\Python\\Python310\\site-packages\\serial\\serialwin32.py:64\u001b[0m, in \u001b[0;36mSerial.open\u001b[1;34m(self)\u001b[0m\n\u001b[0;32m     62\u001b[0m \u001b[38;5;28;01mif\u001b[39;00m \u001b[38;5;28mself\u001b[39m\u001b[38;5;241m.\u001b[39m_port_handle \u001b[38;5;241m==\u001b[39m win32\u001b[38;5;241m.\u001b[39mINVALID_HANDLE_VALUE:\n\u001b[0;32m     63\u001b[0m     \u001b[38;5;28mself\u001b[39m\u001b[38;5;241m.\u001b[39m_port_handle \u001b[38;5;241m=\u001b[39m \u001b[38;5;28;01mNone\u001b[39;00m    \u001b[38;5;66;03m# 'cause __del__ is called anyway\u001b[39;00m\n\u001b[1;32m---> 64\u001b[0m     \u001b[38;5;28;01mraise\u001b[39;00m SerialException(\u001b[38;5;124m\"\u001b[39m\u001b[38;5;124mcould not open port \u001b[39m\u001b[38;5;132;01m{!r}\u001b[39;00m\u001b[38;5;124m: \u001b[39m\u001b[38;5;132;01m{!r}\u001b[39;00m\u001b[38;5;124m\"\u001b[39m\u001b[38;5;241m.\u001b[39mformat(\u001b[38;5;28mself\u001b[39m\u001b[38;5;241m.\u001b[39mportstr, ctypes\u001b[38;5;241m.\u001b[39mWinError()))\n\u001b[0;32m     66\u001b[0m \u001b[38;5;28;01mtry\u001b[39;00m:\n\u001b[0;32m     67\u001b[0m     \u001b[38;5;28mself\u001b[39m\u001b[38;5;241m.\u001b[39m_overlapped_read \u001b[38;5;241m=\u001b[39m win32\u001b[38;5;241m.\u001b[39mOVERLAPPED()\n",
      "\u001b[1;31mSerialException\u001b[0m: could not open port '/dev/ttyUSB0': FileNotFoundError(2, 'El sistema no puede encontrar la ruta especificada.', None, 3)"
     ]
    }
   ],
   "source": [
    "# Esquema básico para request-response\n",
    "# El código utilizado en Arduino es: serial-comm.ino\n",
    "\n",
    "# 1. Inicializa el puerto de comunicación y espera a que esté listo\n",
    "serialport = serial.Serial('/dev/ttyUSB0', 9600)\n",
    "time.sleep(0.1)   # tiempo de espera recomendado: 100 ms\n",
    "\n",
    "# 2. Preparamos el mensaje a ser transmitido\n",
    "val_0 = 123\n",
    "val_1 = 456\n",
    "message_to_serial = str(val_0) + ',' + str(val_1)\n",
    "\n",
    "# 3. Enviamos al puerto y esperamos la respuesta\n",
    "encode_send(serialport, message_to_serial)\n",
    "message_from_serial = decode_response(serialport)\n",
    "\n",
    "# 4. Procesamos la respuesta\n",
    "print(f'enviado: {message_to_serial}')\n",
    "print(f'recibido: {message_from_serial}')\n",
    "\n",
    "# 5. Cierra el puerto serial\n",
    "#serialport.close()\n",
    "print('el puerto se ha cerrado correctamente')\n"
   ]
  },
  {
   "cell_type": "markdown",
   "id": "d9ea8df7",
   "metadata": {},
   "source": [
    "### 2. Enviando mensajes en forma cíclica\n",
    "\n",
    "El código utilizado en Arduino es: **serial-comm.ino**"
   ]
  },
  {
   "cell_type": "code",
   "execution_count": 4,
   "id": "1ce2f443",
   "metadata": {},
   "outputs": [
    {
     "ename": "SerialException",
     "evalue": "could not open port '/dev/ttyUSB0': FileNotFoundError(2, 'El sistema no puede encontrar la ruta especificada.', None, 3)",
     "output_type": "error",
     "traceback": [
      "\u001b[1;31m---------------------------------------------------------------------------\u001b[0m",
      "\u001b[1;31mSerialException\u001b[0m                           Traceback (most recent call last)",
      "Cell \u001b[1;32mIn[4], line 5\u001b[0m\n\u001b[0;32m      1\u001b[0m \u001b[38;5;66;03m# Esquema básico para comunicarse por puerto serial en forma cíclica\u001b[39;00m\n\u001b[0;32m      2\u001b[0m \u001b[38;5;66;03m# El código utilizado en Arduino es: serial-comm.ino\u001b[39;00m\n\u001b[0;32m      3\u001b[0m \n\u001b[0;32m      4\u001b[0m \u001b[38;5;66;03m# inicializa el puerto de comunicación y espera a que esté listo\u001b[39;00m\n\u001b[1;32m----> 5\u001b[0m serialport \u001b[38;5;241m=\u001b[39m \u001b[43mserial\u001b[49m\u001b[38;5;241;43m.\u001b[39;49m\u001b[43mSerial\u001b[49m\u001b[43m(\u001b[49m\u001b[38;5;124;43m'\u001b[39;49m\u001b[38;5;124;43m/dev/ttyUSB0\u001b[39;49m\u001b[38;5;124;43m'\u001b[39;49m\u001b[43m,\u001b[49m\u001b[43m \u001b[49m\u001b[38;5;241;43m9600\u001b[39;49m\u001b[43m)\u001b[49m\n\u001b[0;32m      6\u001b[0m time\u001b[38;5;241m.\u001b[39msleep(\u001b[38;5;241m0.1\u001b[39m)   \u001b[38;5;66;03m# tiempo de espera recomendado: 100 ms\u001b[39;00m\n\u001b[0;32m      8\u001b[0m \u001b[38;5;66;03m# inicia el ciclo de intercambio de datos\u001b[39;00m\n",
      "File \u001b[1;32m~\\AppData\\Roaming\\Python\\Python310\\site-packages\\serial\\serialwin32.py:33\u001b[0m, in \u001b[0;36mSerial.__init__\u001b[1;34m(self, *args, **kwargs)\u001b[0m\n\u001b[0;32m     31\u001b[0m \u001b[38;5;28mself\u001b[39m\u001b[38;5;241m.\u001b[39m_overlapped_read \u001b[38;5;241m=\u001b[39m \u001b[38;5;28;01mNone\u001b[39;00m\n\u001b[0;32m     32\u001b[0m \u001b[38;5;28mself\u001b[39m\u001b[38;5;241m.\u001b[39m_overlapped_write \u001b[38;5;241m=\u001b[39m \u001b[38;5;28;01mNone\u001b[39;00m\n\u001b[1;32m---> 33\u001b[0m \u001b[38;5;28msuper\u001b[39m(Serial, \u001b[38;5;28mself\u001b[39m)\u001b[38;5;241m.\u001b[39m\u001b[38;5;21m__init__\u001b[39m(\u001b[38;5;241m*\u001b[39margs, \u001b[38;5;241m*\u001b[39m\u001b[38;5;241m*\u001b[39mkwargs)\n",
      "File \u001b[1;32m~\\AppData\\Roaming\\Python\\Python310\\site-packages\\serial\\serialutil.py:244\u001b[0m, in \u001b[0;36mSerialBase.__init__\u001b[1;34m(self, port, baudrate, bytesize, parity, stopbits, timeout, xonxoff, rtscts, write_timeout, dsrdtr, inter_byte_timeout, exclusive, **kwargs)\u001b[0m\n\u001b[0;32m    241\u001b[0m     \u001b[38;5;28;01mraise\u001b[39;00m \u001b[38;5;167;01mValueError\u001b[39;00m(\u001b[38;5;124m'\u001b[39m\u001b[38;5;124munexpected keyword arguments: \u001b[39m\u001b[38;5;132;01m{!r}\u001b[39;00m\u001b[38;5;124m'\u001b[39m\u001b[38;5;241m.\u001b[39mformat(kwargs))\n\u001b[0;32m    243\u001b[0m \u001b[38;5;28;01mif\u001b[39;00m port \u001b[38;5;129;01mis\u001b[39;00m \u001b[38;5;129;01mnot\u001b[39;00m \u001b[38;5;28;01mNone\u001b[39;00m:\n\u001b[1;32m--> 244\u001b[0m     \u001b[38;5;28;43mself\u001b[39;49m\u001b[38;5;241;43m.\u001b[39;49m\u001b[43mopen\u001b[49m\u001b[43m(\u001b[49m\u001b[43m)\u001b[49m\n",
      "File \u001b[1;32m~\\AppData\\Roaming\\Python\\Python310\\site-packages\\serial\\serialwin32.py:64\u001b[0m, in \u001b[0;36mSerial.open\u001b[1;34m(self)\u001b[0m\n\u001b[0;32m     62\u001b[0m \u001b[38;5;28;01mif\u001b[39;00m \u001b[38;5;28mself\u001b[39m\u001b[38;5;241m.\u001b[39m_port_handle \u001b[38;5;241m==\u001b[39m win32\u001b[38;5;241m.\u001b[39mINVALID_HANDLE_VALUE:\n\u001b[0;32m     63\u001b[0m     \u001b[38;5;28mself\u001b[39m\u001b[38;5;241m.\u001b[39m_port_handle \u001b[38;5;241m=\u001b[39m \u001b[38;5;28;01mNone\u001b[39;00m    \u001b[38;5;66;03m# 'cause __del__ is called anyway\u001b[39;00m\n\u001b[1;32m---> 64\u001b[0m     \u001b[38;5;28;01mraise\u001b[39;00m SerialException(\u001b[38;5;124m\"\u001b[39m\u001b[38;5;124mcould not open port \u001b[39m\u001b[38;5;132;01m{!r}\u001b[39;00m\u001b[38;5;124m: \u001b[39m\u001b[38;5;132;01m{!r}\u001b[39;00m\u001b[38;5;124m\"\u001b[39m\u001b[38;5;241m.\u001b[39mformat(\u001b[38;5;28mself\u001b[39m\u001b[38;5;241m.\u001b[39mportstr, ctypes\u001b[38;5;241m.\u001b[39mWinError()))\n\u001b[0;32m     66\u001b[0m \u001b[38;5;28;01mtry\u001b[39;00m:\n\u001b[0;32m     67\u001b[0m     \u001b[38;5;28mself\u001b[39m\u001b[38;5;241m.\u001b[39m_overlapped_read \u001b[38;5;241m=\u001b[39m win32\u001b[38;5;241m.\u001b[39mOVERLAPPED()\n",
      "\u001b[1;31mSerialException\u001b[0m: could not open port '/dev/ttyUSB0': FileNotFoundError(2, 'El sistema no puede encontrar la ruta especificada.', None, 3)"
     ]
    }
   ],
   "source": [
    "# Esquema básico para comunicarse por puerto serial en forma cíclica\n",
    "# El código utilizado en Arduino es: serial-comm.ino\n",
    "\n",
    "# inicializa el puerto de comunicación y espera a que esté listo\n",
    "serialport = serial.Serial('/dev/ttyUSB0', 9600)\n",
    "time.sleep(0.1)   # tiempo de espera recomendado: 100 ms\n",
    "\n",
    "# inicia el ciclo de intercambio de datos\n",
    "for i in range(5):\n",
    "    # Preparamos el mensaje a ser transmitido\n",
    "    val_0 = 0\n",
    "    val_1 = 0\n",
    "    message_to_serial = str(val_0) + ',' + str(val_1)\n",
    "\n",
    "    # enviamos al puerto y esperamos la respuesta\n",
    "    encode_send(serialport, message_to_serial)\n",
    "    message_from_serial = decode_response(serialport)\n",
    "\n",
    "    # procesamos la respuesta\n",
    "    print(f'enviado: {message_to_serial}')\n",
    "    print(f'recibido: {message_from_serial}')\n",
    "\n",
    "# cierra el puerto serial\n",
    "serialport.close()\n",
    "print('el puerto se ha cerrado correctamente')"
   ]
  },
  {
   "cell_type": "markdown",
   "id": "65f652e1",
   "metadata": {},
   "source": [
    "### 2. Controlando pines I/O en el dispositivo Arduino\n",
    "\n",
    "El código utilizado en Arduino es: **serial-control.ino**"
   ]
  },
  {
   "cell_type": "code",
   "execution_count": null,
   "id": "d9dfd2b3",
   "metadata": {},
   "outputs": [],
   "source": [
    "# Esquema básico para control de pines I/O en modo request-response\n",
    "# El código utilizado en Arduino es: serial-comm.ino\n",
    "\n",
    "# 1. Inicializa el puerto de comunicación y espera a que esté listo\n",
    "serialport = serial.Serial('/dev/ttyUSB0', 9600)\n",
    "time.sleep(0.1)   # tiempo de espera recomendado: 100 ms\n",
    "\n",
    "# 2. Preparamos el mensaje a ser transmitido\n",
    "led_verde = 0    # 0 = apagado, otro valor = encendido\n",
    "led_rojo = 0     # nivel PWM entre 0 y 255\n",
    "message_to_serial = str(led_verde) + ',' + str(led_rojo)\n",
    "\n",
    "# 3. Enviamos al puerto y esperamos la respuesta\n",
    "encode_send(serialport, message_to_serial)\n",
    "message_from_serial = decode_response(serialport)\n",
    "\n",
    "# 4. Procesamos la respuesta\n",
    "print(f'enviado: {message_to_serial}')\n",
    "\n",
    "data = message_from_serial.split(';')\n",
    "val_x = int(data[0])\n",
    "val_y = int(data[1])\n",
    "print(f'val_x = {val_x}')\n",
    "print(f'val_y = {val_y}')\n",
    "\n",
    "# 5. Cierra el puerto serial\n",
    "serialport.close()\n",
    "print('el puerto se ha cerrado correctamente')"
   ]
  },
  {
   "cell_type": "markdown",
   "id": "f3155cff",
   "metadata": {},
   "source": [
    "### 4. Registrando datos recibidos desde el puerto serial\n",
    "\n",
    "El código utilizado en Arduino es: **serial-control.ino**"
   ]
  },
  {
   "cell_type": "code",
   "execution_count": null,
   "id": "ec5cc7c4",
   "metadata": {},
   "outputs": [],
   "source": [
    "# Registro de transacciones vía puerto serial\n",
    "# El código utilizado en Arduino es: serial-comm.ino\n",
    "\n",
    "# 1. Inicializa el puerto de comunicaciones\n",
    "\n",
    "# 2. Inicializa el archivo de registro de datos\n",
    "\n",
    "# 3. Registra las transacciones durante un periodo de tiempo especificado\n",
    "\n",
    "# 4. Cierra el puerto de comunicaciones"
   ]
  }
 ],
 "metadata": {
  "kernelspec": {
   "display_name": "Python 3 (ipykernel)",
   "language": "python",
   "name": "python3"
  },
  "language_info": {
   "codemirror_mode": {
    "name": "ipython",
    "version": 3
   },
   "file_extension": ".py",
   "mimetype": "text/x-python",
   "name": "python",
   "nbconvert_exporter": "python",
   "pygments_lexer": "ipython3",
   "version": "3.10.9"
  }
 },
 "nbformat": 4,
 "nbformat_minor": 5
}
