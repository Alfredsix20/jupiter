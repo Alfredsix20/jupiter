{
 "cells": [
  {
   "cell_type": "markdown",
   "id": "0db21c86",
   "metadata": {},
   "source": [
    "# Práctica 1 - Conociendo los tipos primitivos y algunas operaciones y funciones nativas de Python 3\n",
    "Autor: Claudio Morales D.<br>\n",
    "https://github.com/cmoralesd/conociendo-python <br>\n",
    "Otoño 2023 <br>\n",
    "<br>\n",
    "Para profundizar en conceptos y otros aspectos de programación con Python, recomiendo consultar el curso en línea e la Escuela de Ingenierías Industriales de la Universidad de Valencia, \"Fundamentos de Programación en Python\", disponible en este enlace: https://www2.eii.uva.es/fund_inf/python/index.html\n"
   ]
  },
  {
   "cell_type": "markdown",
   "id": "226bbd86",
   "metadata": {},
   "source": [
    "## 1. Tipos primitivos: enteros, reales, booleanos, cadenas de texto y complejos"
   ]
  },
  {
   "cell_type": "code",
   "execution_count": null,
   "id": "6a6ec362",
   "metadata": {},
   "outputs": [],
   "source": [
    "# Los tipos de variables para representar valores numéricos son int, float\n",
    "var_1 = 1\n",
    "var_2 = 1.\n"
   ]
  },
  {
   "cell_type": "code",
   "execution_count": null,
   "id": "cb552e08",
   "metadata": {},
   "outputs": [],
   "source": [
    "# Las variables booleanas pueden tener valor lógico True o False\n",
    "var_3 = True\n"
   ]
  },
  {
   "cell_type": "code",
   "execution_count": null,
   "id": "5ee0490a",
   "metadata": {},
   "outputs": [],
   "source": [
    "# Las cadenas de texto se definen utilizando comillas simples o dobles\n",
    "var_4 = \"texto 1\"\n",
    "var_5 = 'otro texto'\n"
   ]
  },
  {
   "cell_type": "code",
   "execution_count": null,
   "id": "b45695c9",
   "metadata": {},
   "outputs": [],
   "source": [
    "# En Jupyter Notebooks, es posible conocer rápidamente el valor contenido en una variable,\n",
    "# simplemente observando la salida de consola (se muestra solo para la última operación de cada celda)\n",
    "var_1\n"
   ]
  },
  {
   "cell_type": "code",
   "execution_count": null,
   "id": "e78a5746",
   "metadata": {},
   "outputs": [],
   "source": [
    "# Las operaciones de comparación entregan como resultado True o False\n",
    "var_1 > var_2\n"
   ]
  },
  {
   "cell_type": "code",
   "execution_count": null,
   "id": "90fc9d62",
   "metadata": {},
   "outputs": [],
   "source": [
    "# Para conocer el tipo de variable se utiliza type()\n",
    "type(var_5)\n"
   ]
  },
  {
   "cell_type": "code",
   "execution_count": null,
   "id": "253bc3a3",
   "metadata": {},
   "outputs": [],
   "source": [
    "# Los números complejos pueden representarse por una variable de tipo complex,\n",
    "# se escribe en forma rectangular (a + bj), agregando el operador j\n",
    "var_6 = 3 + 2j\n",
    "var_6\n"
   ]
  },
  {
   "cell_type": "code",
   "execution_count": null,
   "id": "fba82c27",
   "metadata": {},
   "outputs": [],
   "source": [
    "# Es posible definir varias variables simultáneamente, en una única línea, separando por comas\n",
    "radio, altura, PI = 2.1, 1.5, 3.14159\n",
    "\n",
    "# también se puede asignar el resultado de una operación a una variable\n",
    "volumen_cilindro = 2*PI*radio*altura\n",
    "volumen_cilindro\n"
   ]
  },
  {
   "cell_type": "markdown",
   "id": "69991cd1",
   "metadata": {},
   "source": [
    "## 2. Operaciones y funciones nativas con variables de tipos primitivos"
   ]
  },
  {
   "cell_type": "code",
   "execution_count": null,
   "id": "c45ccd75",
   "metadata": {},
   "outputs": [],
   "source": [
    "# La función abs() calcula el valor absoluto o módulo de variables numéricas\n",
    "num1, num2, num3 = 7.5, -3.2, 2 + 3.2j\n",
    "abs(num3)\n"
   ]
  },
  {
   "cell_type": "code",
   "execution_count": null,
   "id": "f381a5c2",
   "metadata": {},
   "outputs": [],
   "source": [
    "# El cálculo de potencias se realiza con el operador **\n",
    "3**2\n"
   ]
  },
  {
   "cell_type": "code",
   "execution_count": null,
   "id": "8663ff48",
   "metadata": {},
   "outputs": [],
   "source": [
    "# Es posible calcular potencias con exponentes racionales\n",
    "2**(1/2)\n"
   ]
  },
  {
   "cell_type": "code",
   "execution_count": null,
   "id": "fbcab79d",
   "metadata": {},
   "outputs": [],
   "source": [
    "# Incluso se pueden realizar cálculos cuyo resultado se extiende al campo de los números complejos\n",
    "(-2)**(1/2)\n"
   ]
  },
  {
   "cell_type": "code",
   "execution_count": null,
   "id": "02d70292",
   "metadata": {},
   "outputs": [],
   "source": [
    "# CUIDADO! Siempre es importante tener en cuenta las prioridades en los cálculos matemáticos \n",
    "# Estos 5 cálculos entregan resultados distintos\n",
    "# ¿Cuál de ellos corresponde a 2 veces la raíz cuadrada de -3?\n",
    "\n",
    "valor_1 = 2*-3**1/2 \n",
    "valor_2 = 2*(-3)**1/2 \n",
    "valor_3 = 2*(-3)**(1/2)\n",
    "valor_4 = (2*-3)**(1/2)\n",
    "valor_5 = 2*(-3**1/2)\n"
   ]
  },
  {
   "cell_type": "code",
   "execution_count": null,
   "id": "001cbe0d",
   "metadata": {},
   "outputs": [],
   "source": [
    "# Para las variables de tipo float, es posible redondear decimales con round()\n",
    "round(2**(1/2), 3)\n"
   ]
  },
  {
   "cell_type": "code",
   "execution_count": null,
   "id": "7f1e0fbb",
   "metadata": {},
   "outputs": [],
   "source": [
    "# Cada variable es, estrictamente hablando, una instancia de una clase y tiene todas\n",
    "# las atributos y métodos que han sido definidos para esa clase.\n",
    "# Para conocerlos, se puede utilizar la función dir()\n",
    "my_var = 3.2\n",
    "dir(my_var)\n"
   ]
  },
  {
   "cell_type": "code",
   "execution_count": null,
   "id": "96378a63",
   "metadata": {},
   "outputs": [],
   "source": [
    "my_var.is_integer()\n"
   ]
  },
  {
   "cell_type": "code",
   "execution_count": null,
   "id": "10df0a66",
   "metadata": {},
   "outputs": [],
   "source": [
    "# Para las variables de tipo str, hay varios métodos que es bueno conocer\n",
    "texto = \"un texto de ejemplo\"\n",
    "dir(texto)\n"
   ]
  },
  {
   "cell_type": "code",
   "execution_count": null,
   "id": "48fd0264",
   "metadata": {},
   "outputs": [],
   "source": [
    "# En Jupyter Notebooks, los parámetros y métodos disponibles se pueden identificar\n",
    "# fácilmente mediante autocompletar (tecla TAB)\n",
    "text_value = \"132\"\n"
   ]
  },
  {
   "cell_type": "code",
   "execution_count": null,
   "id": "e15008dd",
   "metadata": {},
   "outputs": [],
   "source": [
    "# Un método muy utilizado al trabajar con cadenas de texto es .split(), que sirve para\n",
    "#  separar sectores de una cadena en una lista. Se utiliza indicando el caracter de separación.\n",
    "datos_recibidos = '12.5, 3.25, 44,3, 120, 0'\n",
    "datos_recibidos.split(',')\n"
   ]
  },
  {
   "cell_type": "code",
   "execution_count": null,
   "id": "9b91de21",
   "metadata": {},
   "outputs": [],
   "source": [
    "# Dado que trabajaremos frecuentemente con valores numéricos y cadenas de texto,\n",
    "# conviene conocer las funciones de conversión más comunes:\n",
    "text_value = \"1.32\"\n",
    "float(text_value)\n"
   ]
  },
  {
   "cell_type": "code",
   "execution_count": null,
   "id": "760a6ede",
   "metadata": {},
   "outputs": [],
   "source": [
    "# También es posible transformar números a cadenas de texto\n",
    "value = round(2**(1/2), 4)\n",
    "str(value)\n"
   ]
  },
  {
   "cell_type": "markdown",
   "id": "9701bfa0",
   "metadata": {},
   "source": [
    "## 3. La función print()"
   ]
  },
  {
   "cell_type": "code",
   "execution_count": null,
   "id": "c8219309",
   "metadata": {},
   "outputs": [],
   "source": [
    "# Las cadenas de texto pueden enviarse a la consola en tiempo de ejecución usando la función print()\n",
    "msg = 'mensaje a la consola...'\n",
    "print(msg)\n"
   ]
  },
  {
   "cell_type": "code",
   "execution_count": null,
   "id": "3ccfef1f",
   "metadata": {},
   "outputs": [],
   "source": [
    "# Las cadenas de texto pueden concatenarse, con el operador +\n",
    "txt1 = 'El mensaje comienza aquí'\n",
    "txt2 =  'y concluye aquí.'\n",
    "print(txt1 + txt2)\n"
   ]
  },
  {
   "cell_type": "code",
   "execution_count": null,
   "id": "ca2519d9",
   "metadata": {},
   "outputs": [],
   "source": [
    "# Si se envían variables numéricas a una función print(), son convertidas a str y enviadas a consola\n",
    "value = 3.14\n",
    "print(value)\n"
   ]
  },
  {
   "cell_type": "code",
   "execution_count": null,
   "id": "df85bb03",
   "metadata": {},
   "outputs": [],
   "source": [
    "# Varias variables y cadenas de texto pueden enviarse a print(), separadas por comas:\n",
    "texto = 'valor:'\n",
    "value = 3.14\n",
    "print (\"la variable tiene\", texto, value)\n"
   ]
  },
  {
   "cell_type": "code",
   "execution_count": null,
   "id": "1d8c4c6a",
   "metadata": {},
   "outputs": [],
   "source": [
    "# Pero una forma más adecuada de dar formato al texto es mediante el método .format()\n",
    "valnum = 1\n",
    "value = 3.14\n",
    "print('El valor de la variable {} es: {}'.format(valnum, value))\n"
   ]
  },
  {
   "cell_type": "code",
   "execution_count": null,
   "id": "90ab634b",
   "metadata": {},
   "outputs": [],
   "source": [
    "# Que puede también escribirse en una forma más cómoda\n",
    "print(f'El valor de la variable {valnum} es: {value}')\n"
   ]
  },
  {
   "cell_type": "markdown",
   "id": "8b08ff36",
   "metadata": {},
   "source": [
    "## ACTIVIDAD\n",
    "Se tienen variables de texto que contienen datos sobre las dimensiones de una caja de encomienda. Con esta información se calcula el costo de envío por volumen, a razón de \\\\$15990 por metro cúbico, al cual se le suma un costo fijo de \\\\$2500.\n",
    "\n",
    "A partir de las definiciones de variables dadas, escriba un código que:\n",
    "\n",
    "1. Transforme los valores numéricos almacenados en **text_dato_1** , **text_dato_2** y **text_dato_3** en variables de tipo **float**. Asigne los resultados a las variables **largo**, **ancho** y **largo**, respectivamente.\n",
    "2. Con los valores numéricos de largo, ancho y largo, calcule el volumen de la caja como  **volumen =  largo * ancho * alto**\n",
    "3. Imprima un mensaje en pantalla que diga, por ejemplo: **\"El volumen de la caja es 0.32 m3\"**. El número debe estar redondeado a dos decimales.\n",
    "4. Calcule el costo de envío como el producto del volumen calculado por \\\\$15990, más el costo fijo de \\\\$2500. El resultado debe quedar almacenado en una variable llamada **costo_envio**, que debe ser de tipo **int**.\n",
    "5. Imprima un mensaje en pantalla que exprese el costo de envío (almacenado en la variable **costo_envio**) y el detalle de costo por volumen y costo fijo, por ejemplo: **\"El costo de envío es \\\\$8017, compuesto por un costo por volumen de \\\\$5517 más \\\\$2500 por servicio\"**.\n"
   ]
  },
  {
   "cell_type": "code",
   "execution_count": 1,
   "id": "83241ef4",
   "metadata": {},
   "outputs": [
    {
     "name": "stdout",
     "output_type": "stream",
     "text": [
      "El volumen de la caja es 0.11 m3\n",
      "El costo de envío es $4198, compuesto por un costo por volumen de $1698 más $2500 por servicio\n"
     ]
    }
   ],
   "source": [
    "# datos de entrada\n",
    "text_dato_1 = '0.5'    # largo de la caja\n",
    "text_dato_2 = '0.85'   # ancho de la caja\n",
    "text_dato_3 = '0.25'   # alto de la caja\n",
    "\n",
    "# Escriba su código aquí ---->\n",
    "# transformamos los valores recibidos a tipo 'float'\n",
    "largo = float(text_dato_1)\n",
    "ancho = float(text_dato_2)\n",
    "alto = float(text_dato_3)\n",
    "\n",
    "# calculamos volumen\n",
    "volumen = largo * ancho * alto\n",
    "\n",
    "# imprimimos un mensaje en pantalla\n",
    "print(f'El volumen de la caja es {round(volumen, 2)} m3')\n",
    "\n",
    "# calculamos costo de envío\n",
    "costo_volumen = int(volumen * 15990)\n",
    "costo_envio = costo_volumen + 2500\n",
    "\n",
    "# imprimimos mensaje final\n",
    "print(f'El costo de envío es ${costo_envio}, compuesto por un costo por volumen de ${costo_volumen} más $2500 por servicio')"
   ]
  },
  {
   "cell_type": "code",
   "execution_count": 2,
   "id": "6a9c0f2e",
   "metadata": {},
   "outputs": [
    {
     "name": "stdout",
     "output_type": "stream",
     "text": [
      "El valor almacenado en la variable costo_envio es $ 4198\n",
      "La variable costo_envio es de tipo <class 'int'>\n"
     ]
    }
   ],
   "source": [
    "# Si su código funciona correctamente, el siguiente código debiera ejecutarse sin errores:\n",
    "# *** NO MODIFIQUE ESTA CELDA ***\n",
    "\n",
    "print(f'El valor almacenado en la variable costo_envio es $ {costo_envio}')\n",
    "print(f'La variable costo_envio es de tipo {type(costo_envio)}')\n"
   ]
  },
  {
   "cell_type": "code",
   "execution_count": null,
   "id": "ed741b40",
   "metadata": {},
   "outputs": [],
   "source": []
  }
 ],
 "metadata": {
  "kernelspec": {
   "display_name": "Python 3 (ipykernel)",
   "language": "python",
   "name": "python3"
  },
  "language_info": {
   "codemirror_mode": {
    "name": "ipython",
    "version": 3
   },
   "file_extension": ".py",
   "mimetype": "text/x-python",
   "name": "python",
   "nbconvert_exporter": "python",
   "pygments_lexer": "ipython3",
   "version": "3.10.6"
  }
 },
 "nbformat": 4,
 "nbformat_minor": 5
}
