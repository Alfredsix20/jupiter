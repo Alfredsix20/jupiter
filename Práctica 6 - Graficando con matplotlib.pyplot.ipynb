{
 "cells": [
  {
   "attachments": {},
   "cell_type": "markdown",
   "id": "91d4297d",
   "metadata": {},
   "source": [
    "# Práctica 6 - Graficando con matplotlib.pyplot\n",
    "Autor: Claudio Morales D.<br>\n",
    "https://github.com/cmoralesd/conociendo-python <br>\n",
    "Otoño 2023<br>\n",
    "<br>\n",
    "Para profundizar en las opciones de graficación con matplotlib, consulte la documentación oficial, disponible en https://matplotlib.org/\n",
    "\n",
    "Un tutorial introductorio sobre el uso de pyplot, se encuentra en https://matplotlib.org/stable/tutorials/introductory/pyplot.html\n",
    "\n",
    "Los archivos de datos en formato **csv** utilizados en esta actividad se obtuvieron desde: https://climatologia.meteochile.gob.cl/application/index/menuTematicoEmas\n",
    "\n"
   ]
  },
  {
   "attachments": {},
   "cell_type": "markdown",
   "id": "c09146b2",
   "metadata": {},
   "source": [
    "## 1. Introducción a pyplot\n",
    "\n",
    "**Matplotlib** es una librería para crear gráficos estáticos, dinámicos, animados, visualizaciones interactivas y otros elementos gráficos en Python. Dentro de **matplotlib** existe una interfaz denominada **pyplot**, diseñada para trabajar en gráficos al estilo de MATLAB, que resulta más familiar en las disciplinas de las ciencias y la ingeniería.\n",
    "\n",
    "La forma típica de importar la librería ```matplotlib.pyplot``` es utilizando el nombre corto ```plt```"
   ]
  },
  {
   "cell_type": "code",
   "execution_count": null,
   "id": "856a7f11",
   "metadata": {},
   "outputs": [],
   "source": [
    "# importamos la librería de gráficos\n",
    "import matplotlib.pyplot as plt\n"
   ]
  },
  {
   "cell_type": "code",
   "execution_count": null,
   "id": "ebf02253",
   "metadata": {},
   "outputs": [],
   "source": [
    "# matplotlib grafica los datos en una 'Figure' (por ejemplo, una ventana de Windows), la cual contiene\n",
    "# uno o más 'Axes' (un área donde los puntos se ordenan en coordenadas x-y, theta-radio, o x-y-z en caso 3D).\n",
    "# La forma más simple de crear una Figure con un Axes es utilizando pyplot.subplots()\n",
    "# Para graficar sobre un axes, la sintaxis básica es plot(<coordenadas x>, <coordenadas y>, <opciones>)\n",
    "\n",
    "fig, ax = plt.subplots() \n",
    "ax.plot([1, 4, 2, 3],[1, 4, 2, 3] 'ro-.')\n",
    "plt.show()"
   ]
  },
  {
   "cell_type": "code",
   "execution_count": null,
   "id": "ef53022c",
   "metadata": {},
   "outputs": [],
   "source": [
    "# Los límites de los ejes, textos en los ejes o el título de la gráfica \n",
    "# se añaden en instrucciones separadas, antes de .show()\n",
    "\n",
    "fig, ax = plt.subplots() \n",
    "ax.plot([10, 20, 30, 40], [3, 2, 4, 1])\n",
    "ax.set_xlabel('valores de eje x')\n",
    "ax.set_ylabel('valores de eje y')\n",
    "ax.set_ylim(-1, 5)\n",
    "ax.set_title('gráfico simple')\n",
    "plt.show()"
   ]
  },
  {
   "attachments": {},
   "cell_type": "markdown",
   "id": "79289a79",
   "metadata": {},
   "source": [
    "## 2. Explorando opciones de gráficos\n",
    "\n",
    "Para ensayar varios tipos de gráficos, utilizaremos un registro de temperaturas de una estación meteorologica, acondicionando los datos con la libreria **meteodatos**, que hemos construido previamente."
   ]
  },
  {
   "cell_type": "code",
   "execution_count": null,
   "id": "8c9f87a4",
   "metadata": {
    "scrolled": true
   },
   "outputs": [],
   "source": [
    "# utilicemos pyplot para hacer algunos gráficos con registros de temperatura\n",
    "import meteodatos as mtd\n",
    "datos = mtd.leer_archivo('330075_202303_Temperatura.csv')\n",
    "datos"
   ]
  },
  {
   "cell_type": "code",
   "execution_count": null,
   "id": "9319c5fc",
   "metadata": {},
   "outputs": [],
   "source": [
    "ts = mtd.filtrar_cabecera(datos, 'ts')[1:]\n",
    "fig, ax = plt.subplots()\n",
    "ax.plot(ts)\n",
    "plt.show()\n"
   ]
  },
  {
   "cell_type": "code",
   "execution_count": null,
   "id": "70965b0e",
   "metadata": {},
   "outputs": [],
   "source": [
    "ts_01 = mtd.filtrar_cabecera(mtd.filtrar_dia(datos, '2023-03-01'), 'ts')[1:]\n",
    "ts_02 = mtd.filtrar_cabecera(mtd.filtrar_dia(datos, '2023-03-02'), 'ts')[1:]\n",
    "ts_03 = mtd.filtrar_cabecera(mtd.filtrar_dia(datos, '2023-03-03'), 'ts')[1:]\n",
    "fig, ax = plt.subplots()\n",
    "ax.plot(ts_01, 'r-', label='2023-03-01')\n",
    "ax.plot(ts_02, 'g-.', label='2023-03-02')\n",
    "ax.plot(ts_03, 'b--', label='2023-03-03')\n",
    "ax.legend()\n",
    "plt.show()"
   ]
  },
  {
   "cell_type": "code",
   "execution_count": null,
   "id": "8d2002ea",
   "metadata": {},
   "outputs": [],
   "source": [
    "# Almacenaremos los datos de temperatura para el mes de marzo en una forma más conveniente\n",
    "\n",
    "ts_mes = {} # almacena los datos de temperatura, organizados por día\n",
    "            # ejemplo: {'2023-03-01':[10.5, 11,2, 11,7,....]}\n",
    "dias = []  # guarda la lista de dias registrados en el archivo, como elementos 'str' con formato 'AAAA-MM-DD'\n",
    "\n",
    "# primero identificamos todos los dias registrados en los datos\n",
    "for fila in datos[1:]:\n",
    "    fecha = fila.split(';')[3].split(' ')[0]\n",
    "    #print(fecha)\n",
    "    if fecha not in dias:\n",
    "        dias.append(fecha)\n",
    "\n",
    "#dias\n",
    "for dia in dias[:-1]:\n",
    "    datos_dia = mtd.filtrar_dia(datos, dia)\n",
    "    ts_dia = mtd.filtrar_cabecera(datos_dia, 'ts')[1:]\n",
    "    ts_mes.update({dia: ts_dia})\n",
    "\n",
    "ts_mes"
   ]
  },
  {
   "cell_type": "code",
   "execution_count": null,
   "id": "1dcae5cd",
   "metadata": {},
   "outputs": [],
   "source": []
  },
  {
   "attachments": {},
   "cell_type": "markdown",
   "id": "5eb6db99",
   "metadata": {},
   "source": [
    "## ACTIVIDAD:\n",
    "\n",
    "Completar los siguientes 3 gráficos, incluyendo las características que se indican:\n",
    "\n",
    "1. Un gráfico de las temperaturas 'ts' del día 1 de marzo. El eje x indicará las horas del día en formato 'float' 0.00 a 24.00 hrs., redondeado a 2 decimales. Por ejemplo, las 3:30 hrs (3 de la mañana y 30 minutos) se representarían como 3.50. Las 12:40 hrs (12 horas y 40 minutos) se representarán como 12.67. El eje y debe indicar la leyenda 'Temperatura en °C'.\n",
    "2. Un gráfico de las temperaturas máximas para todo el mes de marzo, destacando los puntos de cada día con un círculo, y uniendo los puntos con línea segmentada. El eje x debe indicar el número de día, en formato 'int'. El eje y debe indicar la leyenda 'Temperatura en °C'.\n",
    "3. Un gráfico que incluya la información del gráfico del punto 2, además de una segunda línea con las temperaturas mínimas de cada día. Deberá agregarse una leyenda que indique qué color de curva representa cada información (tmáxima y tmínima).\n",
    "\n",
    "**NOTA**: Recuerde que el archivo de datos **330075_202303_Temperatura.csv** y la librería **meteodatos.py** deben estar alojadas en la misma carpeta que este cuaderno de Jupyter.\n",
    "\n"
   ]
  },
  {
   "cell_type": "code",
   "execution_count": null,
   "id": "46ef0163",
   "metadata": {},
   "outputs": [],
   "source": [
    "`import pandas as pd\n",
    "import matplotlib.pyplot as plt\n",
    "\n",
    "# Cargar los datos del archivo CSV\n",
    "data = pd.read_csv('330075_202303_Temperatura.csv')\n",
    "\n",
    "# Gráfico de temperaturas del día 1 de marzo\n",
    "fig, ax = plt.subplots()\n",
    "ax.plot(data['Hora'], data['ts'])\n",
    "ax.set_xlabel('Hora')\n",
    "ax.set_ylabel('Temperatura (°C)')\n",
    "ax.set_title('Temperaturas del día 1 de marzo')\n",
    "plt.show()\n",
    "\n",
    "# Gráfico de temperaturas máximas para todo el mes de marzo\n",
    "fig, ax = plt.subplots()\n",
    "ax.plot(data['Día'], data['Tmáx'], 'o-', label='Temperatura máxima')\n",
    "ax.set_xlabel('Día')\n",
    "ax.set_ylabel('Temperatura (°C)')\n",
    "ax.set_title('Temperaturas máximas del mes de marzo')\n",
    "ax.legend()\n",
    "plt.show()\n",
    "\n",
    "# Gráfico de temperaturas máximas y mínimas para todo el mes de marzo\n",
    "fig, ax = plt.subplots()\n",
    "ax.plot(data['Día'], data['Tmáx'], 'o-', label='Temperatura máxima')\n",
    "ax.plot(data['Día'], data['Tmín'], 'o-', label='Temperatura mínima')\n",
    "ax.set_xlabel('Día')\n",
    "ax.set_ylabel('Temperatura (°C)')\n",
    "ax.set_title('Temperaturas máximas y mínimas del mes de marzo')\n",
    "ax.legend()\n",
    "plt.show()\n"
   ]
  },
  {
   "cell_type": "code",
   "execution_count": null,
   "id": "61fd6ea5",
   "metadata": {},
   "outputs": [],
   "source": []
  }
 ],
 "metadata": {
  "kernelspec": {
   "display_name": "Python 3 (ipykernel)",
   "language": "python",
   "name": "python3"
  },
  "language_info": {
   "codemirror_mode": {
    "name": "ipython",
    "version": 3
   },
   "file_extension": ".py",
   "mimetype": "text/x-python",
   "name": "python",
   "nbconvert_exporter": "python",
   "pygments_lexer": "ipython3",
   "version": "3.10.6"
  }
 },
 "nbformat": 4,
 "nbformat_minor": 5
}
