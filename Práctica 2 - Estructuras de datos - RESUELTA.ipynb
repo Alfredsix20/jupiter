{
 "cells": [
  {
   "cell_type": "markdown",
   "id": "91d4297d",
   "metadata": {},
   "source": [
    "# Práctica 2 - Conociendo estructuras de datos en Python 3 (listas, tuplas, conjuntos y diccionarios)\n",
    "Autor: Claudio Morales D.<br>\n",
    "https://github.com/cmoralesd/conociendo-python <br>\n",
    "Otoño 2023<br>\n",
    "<br>\n",
    "Para profundizar en conceptos y otros aspectos de programación con Python, recomiendo consultar el curso en línea e la Escuela de Ingenierías Industriales de la Universidad de Valencia, \"Fundamentos de Programación en Python\", disponible en este enlace: https://www2.eii.uva.es/fund_inf/python/index.html\n",
    "\n"
   ]
  },
  {
   "cell_type": "markdown",
   "id": "c09146b2",
   "metadata": {},
   "source": [
    "## 1. Listas"
   ]
  },
  {
   "cell_type": "code",
   "execution_count": null,
   "id": "a039d367",
   "metadata": {},
   "outputs": [],
   "source": [
    "# Las listas (list, en ingles) son una colección de elementos del mismo tipo o de distinto tipo\n",
    "# Se construyen agregando elementos entre corchetes cuadrados [], separados por comas:\n",
    "lista_1 = [1.0, 25, True, 'Juan']\n",
    "lista_2 = [2.5, 3.0, 5.25]\n",
    "\n",
    "type(lista_2)\n"
   ]
  },
  {
   "cell_type": "code",
   "execution_count": null,
   "id": "5ef94dc4",
   "metadata": {},
   "outputs": [],
   "source": [
    "# Una lista podría incluso no contener ningún elemento\n",
    "lista_3 = []\n"
   ]
  },
  {
   "cell_type": "code",
   "execution_count": null,
   "id": "46e0fb30",
   "metadata": {},
   "outputs": [],
   "source": [
    "# Una lista puede contener otras listas o cualquier otro tipos de variable\n",
    "lista_4 = [1.0, 25, ['Ana', 'Pedro', 'José']]\n"
   ]
  },
  {
   "cell_type": "code",
   "execution_count": null,
   "id": "7ecedee0",
   "metadata": {},
   "outputs": [],
   "source": [
    "# El número de elementos de una lista se puede obtener con la función len()\n",
    "len(lista_1)\n"
   ]
  },
  {
   "cell_type": "code",
   "execution_count": null,
   "id": "cf51071f",
   "metadata": {},
   "outputs": [],
   "source": [
    "# Los elementos individuales de una lista se indican con un índice, comenzando por 0\n",
    "lista_1[0]\n"
   ]
  },
  {
   "cell_type": "code",
   "execution_count": null,
   "id": "6f3df696",
   "metadata": {},
   "outputs": [],
   "source": [
    "# Los elementos de una lista pueden cambiarse en tiempo de ejecución: son mutables.\n",
    "lista_4[0] = 1.1\n",
    "lista_4\n"
   ]
  },
  {
   "cell_type": "code",
   "execution_count": null,
   "id": "a4149c8d",
   "metadata": {},
   "outputs": [],
   "source": [
    "# Es posible agregar o eliminar elementos de una lista\n",
    "lista_5 = [2, 3, 4, 5]\n",
    "print(lista_5)\n",
    "\n",
    "lista_5.append(6)\n",
    "print(lista_5)\n",
    "\n",
    "lista_5.pop(0)\n",
    "print(lista_5)\n"
   ]
  },
  {
   "cell_type": "code",
   "execution_count": null,
   "id": "81a342d9",
   "metadata": {},
   "outputs": [],
   "source": [
    "# Un elemento de tipo str se comporta también como una lista\n",
    "texto = \"caracteres\"\n",
    "len(texto)\n"
   ]
  },
  {
   "cell_type": "markdown",
   "id": "1467dead",
   "metadata": {},
   "source": [
    "## 2. Tuplas"
   ]
  },
  {
   "cell_type": "code",
   "execution_count": null,
   "id": "0c6a125b",
   "metadata": {},
   "outputs": [],
   "source": [
    "# Las tuplas (tuple, en inglés) son también una colección de datos ordenados.\n",
    "# Se diferencian de las listas por su sintaxis, que utiliza paréntesis redondos ()\n",
    "# Se utilizan típicamente para agrupar elementos de naturaleza similar.\n",
    "tupla_1 = (1.0, 2.0)\n",
    "type(tupla_1)\n"
   ]
  },
  {
   "cell_type": "code",
   "execution_count": null,
   "id": "fd55f8c8",
   "metadata": {},
   "outputs": [],
   "source": [
    "# Cuando se construye una tupla de un solo elemento, no hay que olvidarse de agregar la coma.\n",
    "tupla_2 = ('Juan',)\n",
    "type(tupla_2)\n"
   ]
  },
  {
   "cell_type": "code",
   "execution_count": null,
   "id": "cfb2cf44",
   "metadata": {},
   "outputs": [],
   "source": [
    "# A semejanza de las listas, el número de elementos se obtiene con len()\n",
    "len(tupla_1)\n"
   ]
  },
  {
   "cell_type": "code",
   "execution_count": null,
   "id": "8391d369",
   "metadata": {},
   "outputs": [],
   "source": [
    "# A semejanza de las listas, los elementos individuales se señalan por un índica\n",
    "tupla_1[0]\n"
   ]
  },
  {
   "cell_type": "code",
   "execution_count": null,
   "id": "4fbc760e",
   "metadata": {},
   "outputs": [],
   "source": [
    "# A diferencia de las listas, una vez creadas, no se pueden modificar sus elementos (es inmutable)\n",
    "tupla_1[0] = 1.1\n"
   ]
  },
  {
   "cell_type": "markdown",
   "id": "4d2a13b8",
   "metadata": {},
   "source": [
    "## 3. Conjuntos"
   ]
  },
  {
   "cell_type": "code",
   "execution_count": null,
   "id": "a3237b49",
   "metadata": {},
   "outputs": [],
   "source": [
    "# Los conjuntos (set, en ingles) son colecciones mutables, pero donde sus elementos son inmutales\n",
    "#  y no pueden estar repetidos.\n",
    "# Los conjuntos se crean utilizando llaves {}\n",
    "digitos = {'1', '2', '3', '4', '5', '3', '1', '5'}\n"
   ]
  },
  {
   "cell_type": "code",
   "execution_count": null,
   "id": "fe2fdc99",
   "metadata": {},
   "outputs": [],
   "source": [
    "# Al mostrar los elementos pueden aparecer en cualquier orden\n",
    "print(digitos)\n"
   ]
  },
  {
   "cell_type": "code",
   "execution_count": null,
   "id": "39538db4",
   "metadata": {},
   "outputs": [],
   "source": [
    "# Dado que los elementos del conjunto no están ordenados, no se referenciar utilizando índices\n",
    "digitos[3]\n"
   ]
  },
  {
   "cell_type": "code",
   "execution_count": null,
   "id": "3ad21a68",
   "metadata": {},
   "outputs": [],
   "source": [
    "# Es posible insertar y quitar elementos uno a uno\n",
    "digitos = {'1', '2', '3', '4', '5', '3', '1', '5'}\n",
    "print(digitos)\n",
    "digitos.remove('2')\n",
    "digitos.remove('4')\n",
    "print(digitos)\n"
   ]
  },
  {
   "cell_type": "code",
   "execution_count": null,
   "id": "39118f88",
   "metadata": {},
   "outputs": [],
   "source": [
    "# Y se pueden realizar operaciones entre conjuntos: unión, intersección, diferencia entre conjuntos.\n",
    "pares = {'2', '4', '6', '8'}\n",
    "impares = {'1', '3', '5', '7', '9'}\n",
    "print(pares, impares)\n",
    "\n",
    "todos = pares.copy()\n",
    "todos = todos.union(impares)\n",
    "print(todos)\n"
   ]
  },
  {
   "cell_type": "markdown",
   "id": "a846465d",
   "metadata": {},
   "source": [
    "## 4. Diccionarios"
   ]
  },
  {
   "cell_type": "code",
   "execution_count": null,
   "id": "e0d021d5",
   "metadata": {},
   "outputs": [],
   "source": [
    "# Un diccionario es una colección no secuencial y mutable de elementos,\n",
    "#  organizados como un par clave-valor (key-value)\n",
    "# Se construyen utilizando la sintaxis <dict = { key : value }\n",
    "\n",
    "num = {1: 'uno', 2: 'dos', 3: 'tres', 4: 'cuatro'}\n",
    "polos = {'polo_1': (-2. + 4.j), 'polo_2': (-2. - 4.j), 'polo_3': -4.}\n",
    "\n",
    "type(num)\n"
   ]
  },
  {
   "cell_type": "code",
   "execution_count": null,
   "id": "331444ac",
   "metadata": {},
   "outputs": [],
   "source": [
    "# Los elementos contenidos en un diccionario se pueden consultar con el método .items()\n",
    "num.items()\n"
   ]
  },
  {
   "cell_type": "code",
   "execution_count": null,
   "id": "35277a47",
   "metadata": {},
   "outputs": [],
   "source": [
    "# Las claves contenidas en un diccionario se pueden consultar con el método .keys()\n",
    "num.keys()\n"
   ]
  },
  {
   "cell_type": "code",
   "execution_count": null,
   "id": "65376a3e",
   "metadata": {},
   "outputs": [],
   "source": [
    "# Estos métodos son muy útiles para consultar si una clave existe o no en un diccionario\n",
    "1 in num.keys()\n"
   ]
  },
  {
   "cell_type": "code",
   "execution_count": null,
   "id": "662a30b0",
   "metadata": {},
   "outputs": [],
   "source": [
    "# Para acceder a los elementos individuales de un diccionario se utiliza la clave\n",
    "num[1]\n"
   ]
  },
  {
   "cell_type": "code",
   "execution_count": null,
   "id": "88e8f5ec",
   "metadata": {},
   "outputs": [],
   "source": [
    "# Los diccionarios se expanden dinámicamente: \n",
    "#  Si un elemento no existe, se crea. Si el elemento existe, se actualiza\n",
    "datos = {}\n",
    "datos['humedad'] = 0.8\n",
    "datos['temperatura'] = 25.3\n",
    "datos['presion'] = 2.78\n",
    "datos['valvula'] = False\n",
    "print(datos)\n",
    "datos['valvula'] = True\n",
    "print(datos)\n"
   ]
  },
  {
   "cell_type": "code",
   "execution_count": null,
   "id": "adcc8b20",
   "metadata": {},
   "outputs": [],
   "source": [
    "# Los diccionarios son mutables, por tanto hay que ser cuidadosos al querer hacer copias.\n",
    "# Si definimos una serie de datos:\n",
    "datos_1 = {'humedad': 0.8, 'temperatura': 25.3, 'presion': 2.78, 'valvula': False}\n",
    "print('datos_1 antes: ', datos_1)\n",
    "\n",
    "# y luego hacemos una copia para hacer cambios\n",
    "datos_2 = datos_1\n",
    "datos_2['humedad'] = 0.5\n",
    "datos_2['temperatura'] = 28.3\n",
    "datos_2['valvula'] = True\n",
    "\n",
    "# Esos datos se han cambiado también en el diccionario original\n",
    "print('datos_1 ahora: ', datos_1)\n",
    "print('datos_2 ahora: ', datos_2)"
   ]
  },
  {
   "cell_type": "code",
   "execution_count": null,
   "id": "021f6f92",
   "metadata": {},
   "outputs": [],
   "source": [
    "# Lo que debe hacerse para copiar un diccionario y hacer cambios es utilizar el método .copy()\n",
    "datos_1 = {'humedad': 0.8, 'temperatura': 25.3, 'presion': 2.78, 'valvula': False}\n",
    "print('datos_1 antes: ', datos_1)\n",
    "\n",
    "# hacemos una copia para hacer cambios usando .copy()\n",
    "datos_2 = datos_1.copy()\n",
    "datos_2['humedad'] = 0.5\n",
    "datos_2['temperatura'] = 28.3\n",
    "datos_2['valvula'] = True\n",
    "\n",
    "# Con eso queda inalterado el diccionario original\n",
    "print('datos_1 ahora: ', datos_1)\n",
    "print('datos_2 ahora: ', datos_2)\n"
   ]
  },
  {
   "cell_type": "markdown",
   "id": "e735e108",
   "metadata": {},
   "source": [
    "## ACTIVIDAD:\n",
    "Se tiene un conjunto de datos obtenidos mediante la lectura remota de los parámetros de un controlador de motor para un robot móvil.\n",
    "\n",
    "Los datos han sido recibidos mediante comunicación serial en forma de texto **datos_recibidos**, y siempre se reciben en el mismo orden y representan: voltaje, corriente, valor pwm y estado del motor (0 = apagado, 1 = encendido).\n",
    "\n",
    "Escriba un código para leer los datos desde **datos_recibidos** y almacenarlos en un diccionario **parametros**, organizado según las claves: **'v_motor'**, **'i_motor'**, **'set_pwm'**, **'motor_on'**. \n",
    "\n",
    "Los valores de **v_motor** e **i_motor** deben ser de tipo **float**; el valor de **set_pwm** debe ser de tipo **int**; el valor de **motor_on** debe ser de tipo **bool** (**False** si el motor está apagado y **True** si el motor está encendido.\n",
    "\n",
    "NOTA 1: Para separar los datos recibidos y converir correctamente los tipos de datos, deberá utilizar algunas funciones y métodos vistos en la Práctica 1 - Conociendo los tipos primitivos, y algunas operaciones y funciones nativas en Python 3.\n",
    "\n",
    "NOTA 2: No debe utilizar ninguna estructura de selección o iteración (**if**, **case**, **for**, **while**)."
   ]
  },
  {
   "cell_type": "code",
   "execution_count": 1,
   "id": "424f4757",
   "metadata": {},
   "outputs": [
    {
     "name": "stdout",
     "output_type": "stream",
     "text": [
      "{'v_motor': 12.5, 'i_motor': 3.25, 'set_pwm': 120, 'motor_on': False}\n"
     ]
    }
   ],
   "source": [
    "# Los datos recibidos se obtienen como una cadena de texto desde el puerto serial,\n",
    "# ordenados segun: voltaje, corriente, valor pwm y estado del motor (0 = apagado, 1 = encendido)\n",
    "datos_recibidos = '12.5,3.25,120,0'\n",
    "\n",
    "# Los datos convertidos deben almacenarse en siguiente diccionario vacío:\n",
    "parametros = {}\n",
    "\n",
    "# ESCRIBA SU CÓDIGO AQUÍ -->\n",
    "# separamos los datos recibidos y los almacenamos en una lista 'datos'\n",
    "datos = datos_recibidos.split(',')\n",
    "\n",
    "# introducimos los valores en 'parametros'\n",
    "parametros['v_motor'] = float(datos[0])\n",
    "parametros['i_motor'] = float(datos[1])\n",
    "parametros['set_pwm'] = int(datos[2])\n",
    "parametros['motor_on'] = (datos[3] == '1')\n",
    "\n",
    "# mostramos los datos almacenados\n",
    "print(parametros)\n"
   ]
  },
  {
   "cell_type": "code",
   "execution_count": 2,
   "id": "9dfc089c",
   "metadata": {},
   "outputs": [
    {
     "name": "stdout",
     "output_type": "stream",
     "text": [
      "parametros: {'v_motor': 12.5, 'i_motor': 3.25, 'set_pwm': 120, 'motor_on': False}\n",
      "------------------\n",
      "El valor de v_motor es: 12.5\n",
      "El tipo de datos de v_motor es: <class 'float'>\n",
      "El valor de i_motor es: 3.25\n",
      "El tipo de datos de i_motor es: <class 'float'>\n",
      "El valor de set_pwm es: 120\n",
      "El tipo de datos de set_pwm es: <class 'int'>\n",
      "El valor de motor_on es: False\n",
      "El tipo de datos de motor_on es: <class 'bool'>\n"
     ]
    }
   ],
   "source": [
    "# Si su código funciona correctamente, el siguiente código debiera ejecutarse sin errores:\n",
    "# *** NO MODIFIQUE ESTA CELDA ***\n",
    "\n",
    "print('parametros:', parametros)\n",
    "print('------------------')\n",
    "print('El valor de v_motor es:', parametros['v_motor'])\n",
    "print('El tipo de datos de v_motor es:', type(parametros['v_motor']))\n",
    "print('El valor de i_motor es:', parametros['i_motor'])\n",
    "print('El tipo de datos de i_motor es:', type(parametros['i_motor']))\n",
    "print('El valor de set_pwm es:', parametros['set_pwm'])\n",
    "print('El tipo de datos de set_pwm es:', type(parametros['set_pwm']))\n",
    "print('El valor de motor_on es:', parametros['motor_on'])\n",
    "print('El tipo de datos de motor_on es:', type(parametros['motor_on']))\n"
   ]
  },
  {
   "cell_type": "code",
   "execution_count": null,
   "id": "08c1cef8",
   "metadata": {},
   "outputs": [],
   "source": []
  }
 ],
 "metadata": {
  "kernelspec": {
   "display_name": "Python 3 (ipykernel)",
   "language": "python",
   "name": "python3"
  },
  "language_info": {
   "codemirror_mode": {
    "name": "ipython",
    "version": 3
   },
   "file_extension": ".py",
   "mimetype": "text/x-python",
   "name": "python",
   "nbconvert_exporter": "python",
   "pygments_lexer": "ipython3",
   "version": "3.10.6"
  }
 },
 "nbformat": 4,
 "nbformat_minor": 5
}
