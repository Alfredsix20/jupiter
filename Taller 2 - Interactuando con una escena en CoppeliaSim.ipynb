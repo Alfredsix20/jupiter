{
 "cells": [
  {
   "attachments": {},
   "cell_type": "markdown",
   "id": "40dacb44",
   "metadata": {},
   "source": [
    "<h2>Taller 2 - Interactuando con una escena en CoppeliaSim</h2>\n",
    "<br>Autor: Claudio Morales D.\n",
    "<br>Centro de Automatización y Robótica Inacap\n",
    "<br>Santiago, Chile, enero 2023\n"
   ]
  },
  {
   "attachments": {},
   "cell_type": "markdown",
   "id": "b05cacc3",
   "metadata": {},
   "source": [
    "<h3>zeroMQ remote API: Información preliminar</h3>\n",
    "<br>Entre las múltiples opciones de comunicación con CoppeliaSIm, la zeroMQ remote API entrega funcionalidades que facilitan la interacción con scripts de Python y con otros lenguajes de programación.\n",
    "<br>Las instrucciones para instalar la librería se encuentra aquí: <a>https://www.coppeliarobotics.com/helpFiles/en/zmqRemoteApiOverview.htm</a>\n",
    "<br>La descripción detallada de las funciones de la API se encuentra aquí: <a>https://www.coppeliarobotics.com/helpFiles/en/apiFunctions.htm</a>"
   ]
  },
  {
   "attachments": {},
   "cell_type": "markdown",
   "id": "c8f2767d",
   "metadata": {},
   "source": [
    "<h3>1. Instrucciones mínimas para comunicarse con CoppeliaSim</h3>\n",
    "\n",
    "Varios ejemplos del uso de la zeroMQ remote API pueden consultarse aquí: <a>https://github.com/CoppeliaRobotics/zmqRemoteApi/tree/master/clients/python</a>"
   ]
  },
  {
   "cell_type": "code",
   "execution_count": null,
   "id": "8eaf94ae",
   "metadata": {},
   "outputs": [],
   "source": [
    "# 1. Importamos la librería para comunicaciones remotas\n",
    "# NOTA 1: Se requiere la instalación previa de pyzmq y cbor.\n",
    "# NOTA 2: Si la librería no está direccionada en el PATH de python, copiar \n",
    "#         la carpeta de librería 'zmqRemoteApi' junto a este cuaderno de Jypyter. \n",
    "#         'zmqRemoteApi' para Python se encuentra en:\n",
    "#                 *ruta de instalacion*\\CoppeliaSimEdu\\programming\\zmqRemoteApi\\clients\\python\\\n",
    "import zmqRemoteApi\n",
    "\n",
    "# 2. Se crea un cliente para conectarse al servidor zmqRemoteApi de CoppeliaSim\n",
    "# los parámetros por defecto son: host='localhost', port=23000\n",
    "client = zmqRemoteApi.RemoteAPIClient()\n",
    "\n",
    "# 3. Obtener el objeto remoto 'sim':\n",
    "sim = client.getObject('sim')\n",
    "\n",
    "# 4. Llamar a una funcion de la API:\n",
    "h = sim.getObject('/base')"
   ]
  },
  {
   "cell_type": "code",
   "execution_count": null,
   "id": "c6e5e95b",
   "metadata": {},
   "outputs": [],
   "source": []
  },
  {
   "attachments": {},
   "cell_type": "markdown",
   "id": "86fa1349",
   "metadata": {},
   "source": [
    "<h3>2. Usando la API remota para mover nuestro robot </h3>\n"
   ]
  },
  {
   "cell_type": "code",
   "execution_count": null,
   "id": "23aa093d",
   "metadata": {},
   "outputs": [],
   "source": [
    "# Cargamos la librería, creamos un cliente y obtenemos acceso a sim\n",
    "import zmqRemoteApi\n",
    "client = zmqRemoteApi.RemoteAPIClient()\n",
    "sim = client.getObject('sim')"
   ]
  },
  {
   "cell_type": "code",
   "execution_count": null,
   "id": "19a33923",
   "metadata": {},
   "outputs": [],
   "source": [
    "# Obtenemos los manejadores para las articulaciones y el actuador final\n",
    "joint1 = sim.getObject('/base/joint1')\n",
    "joint2 = sim.getObject('/base/joint2')\n",
    "joint3 = sim.getObject('/base/joint3')\n",
    "endEffector = sim.getObject('/base/connection')\n",
    "\n",
    "print(joint1, joint2, joint3, endEffector)"
   ]
  },
  {
   "cell_type": "code",
   "execution_count": null,
   "id": "63083563",
   "metadata": {},
   "outputs": [],
   "source": [
    "# Ahora movemos el robot\n",
    "sim.setJointTargetPosition(joint1, 0)\n"
   ]
  },
  {
   "cell_type": "code",
   "execution_count": null,
   "id": "b3980f3c",
   "metadata": {},
   "outputs": [],
   "source": [
    "import time\n",
    "\n",
    "# Definir los ángulos objetivo para las articulaciones\n",
    "angles = [0, 45, 90]  # Lista de ángulos en grados\n",
    "\n",
    "# Definir la duración de cada movimiento en segundos\n",
    "movement_duration = 2\n",
    "\n",
    "# Obtener el tiempo inicial\n",
    "start_time = time.time()\n",
    "\n",
    "# Realizar el movimiento cíclico\n",
    "while True:\n",
    "    # Calcular el tiempo transcurrido desde el inicio del movimiento\n",
    "    elapsed_time = time.time() - start_time\n",
    "\n",
    "    # Calcular el índice del ángulo objetivo actual\n",
    "    angle_index = int(elapsed_time / movement_duration) % len(angles)\n",
    "\n",
    "    # Obtener el ángulo objetivo actual\n",
    "    target_angle = angles[angle_index]\n",
    "\n",
    "    # Mover las articulaciones a los ángulos objetivo\n",
    "    joint1.setPositionTarget(target_angle)\n",
    "    joint2.setPositionTarget(target_angle)\n",
    "    joint3.setPositionTarget(target_angle)\n",
    "\n",
    "    # Verificar si se ha completado un ciclo de movimientos\n",
    "    if elapsed_time >= movement_duration * len(angles):\n",
    "        break\n",
    "\n",
    "    # Esperar un breve período de tiempo antes del siguiente movimiento\n",
    "    time.sleep(0.1)"
   ]
  }
 ],
 "metadata": {
  "kernelspec": {
   "display_name": "Python 3 (ipykernel)",
   "language": "python",
   "name": "python3"
  },
  "language_info": {
   "codemirror_mode": {
    "name": "ipython",
    "version": 3
   },
   "file_extension": ".py",
   "mimetype": "text/x-python",
   "name": "python",
   "nbconvert_exporter": "python",
   "pygments_lexer": "ipython3",
   "version": "3.9.13"
  }
 },
 "nbformat": 4,
 "nbformat_minor": 5
}
