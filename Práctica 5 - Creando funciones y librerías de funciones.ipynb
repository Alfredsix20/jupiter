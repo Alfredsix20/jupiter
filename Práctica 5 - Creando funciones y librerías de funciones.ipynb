{
 "cells": [
  {
   "cell_type": "markdown",
   "id": "91d4297d",
   "metadata": {},
   "source": [
    "# Práctica 5 - Funciones y librerías de funciones (módulos) en Python\n",
    "Autor: Claudio Morales D.<br>\n",
    "https://github.com/cmoralesd/conociendo-python <br>\n",
    "Otoño 2023<br>\n",
    "<br>\n",
    "Para profundizar en conceptos y otros aspectos de programación con Python, recomiendo consultar el curso en línea de la Escuela de Ingenierías Industriales de la Universidad de Valencia, \"Fundamentos de Programación en Python\", disponible en este enlace: https://www2.eii.uva.es/fund_inf/python/index.html\n",
    "\n",
    "Los archivos de datos en formato **csv** se obtienen desde: https://climatologia.meteochile.gob.cl/application/index/menuTematicoEmas\n",
    "\n"
   ]
  },
  {
   "cell_type": "markdown",
   "id": "c09146b2",
   "metadata": {},
   "source": [
    "## 1. Construyendo funciones mediante 'def'"
   ]
  },
  {
   "cell_type": "code",
   "execution_count": null,
   "id": "3a5fcae7",
   "metadata": {},
   "outputs": [],
   "source": [
    "# un archivo de texto se puede leer fácilmente utilizando la instrucción 'with' junto a 'open()'\n",
    "nombre_archivo = '330075_202303_Temperatura.csv'\n",
    "try:\n",
    "    with open(nombre_archivo) as archivo:\n",
    "        print(f'El Archivo fue leido correctamente: {nombre_archivo}')\n",
    "    for linea in archivo:\n",
    "        print(linea)\n",
    "except:\n",
    "    print(f'ERROR: No se pudo abrir el archivo {nombre_archivo}')        "
   ]
  },
  {
   "cell_type": "code",
   "execution_count": null,
   "id": "8c23ec8e",
   "metadata": {},
   "outputs": [],
   "source": [
    "def leer_archivo(nombre_archivo):\n",
    "    # nombre_archivo: un archivo csv obtenido desde https://climatologia.meteochile.gob.cl/application/index/menuTematicoEmas\n",
    "    # retorna: el contenido del archivo como una lista, cuyos elementos son las\n",
    "    #          líneas del archivo original, sin el caracter final '\\n'\n",
    "    contenido = ´[]\n",
    "    try:\n",
    "        with open(nombre_archivo) as archivo:\n",
    "            print(f'El Archivo fue leido correctamente: {nombre_archivo}')\n",
    "            for linea in archivo:\n",
    "                contenido.apend(linea[:-1])\n",
    "        \n",
    "    except:\n",
    "        print(f'ERROR: No se pudo abrir el archivo {nombre_archivo}')  \n",
    "   \n",
    "    return contenido"
   ]
  },
  {
   "cell_type": "code",
   "execution_count": null,
   "id": "0120783a",
   "metadata": {},
   "outputs": [],
   "source": [
    "def datos_registrados(datos):\n",
    "    # datos: una lista con datos leidos desde el archivo csv\n",
    "    # retorna: una lista con todos los nombres encontrados en la fila de cabecera\n",
    "    datos_encontrados = datos[0].split(';')\n",
    "    return datos_encontrados\n",
    "    \n",
    "    "
   ]
  },
  {
   "cell_type": "code",
   "execution_count": null,
   "id": "f22c5722",
   "metadata": {},
   "outputs": [],
   "source": [
    "def filtrar_cabecera(datos, filtro):\n",
    "    # datos: la lista con los datos leidos desde el archivo csv\n",
    "    # filtro: una variable 'str' con el nombre de cabecera que se desea filtrar\n",
    "    # retorna: una lista con todas las filas de 'datos', pero conteniendo únicamente los datos bajo el nombre 'filtro'.\n",
    "    #          Los datos que representan números están en formato numérico correspondiente (int o float)\n",
    "    index = datos_registrados(datos).index(filtro)\n",
    "    datos_filtrados = []\n",
    "    for filas in datos:\n",
    "        valor = fila.split(';')[index]\n",
    "        if valor.isnumeric():\n",
    "            valor = int(valor)\n",
    "        else:\n",
    "            try:\n",
    "                valor = float(valor)\n",
    "            except:\n",
    "                pass\n",
    "\n",
    "        datos_filtrados.append(valor)\n",
    "\n",
    "    return datos_filtrados\n",
    "\n",
    "    \n",
    "        \n",
    "        "
   ]
  },
  {
   "cell_type": "markdown",
   "id": "289afbdd",
   "metadata": {},
   "source": [
    "## Algo más sobre las listas"
   ]
  },
  {
   "cell_type": "code",
   "execution_count": null,
   "id": "1c0de35b",
   "metadata": {},
   "outputs": [],
   "source": [
    "# usando el operador ':' en los índices de elementos\n",
    "lista_1 = [10, 20, 30, 40, 50]\n"
   ]
  },
  {
   "cell_type": "code",
   "execution_count": null,
   "id": "c5f85b11",
   "metadata": {},
   "outputs": [],
   "source": [
    "# precaución al hacer copias de listas, recordar que son elementos mutables\n",
    "lista_1 = [10, 20, 30, 40, 50]\n",
    "lista_2 = lista_1\n"
   ]
  },
  {
   "cell_type": "code",
   "execution_count": null,
   "id": "2d660878",
   "metadata": {},
   "outputs": [],
   "source": [
    "# quitar elementos de una lista por su índice, usando .pop()\n",
    "lista_1 = [10, 20, 30, 40, 50]\n"
   ]
  },
  {
   "cell_type": "code",
   "execution_count": null,
   "id": "066af6db",
   "metadata": {},
   "outputs": [],
   "source": [
    "# eliminar elementos de una lista por su valor, usando .remove()\n",
    "lista_1 = [10, 20, 30, 40, 50]\n"
   ]
  },
  {
   "cell_type": "code",
   "execution_count": null,
   "id": "9572159e",
   "metadata": {},
   "outputs": [],
   "source": [
    "# agregar un elemento en una posición específica de una lista, usando .insert()\n",
    "lista_1 = [10, 20, 30, 40, 50]\n"
   ]
  },
  {
   "cell_type": "code",
   "execution_count": null,
   "id": "c00ab860",
   "metadata": {},
   "outputs": [],
   "source": [
    "# calculando máximos y mínimos de una lista de números, con max() y min()\n",
    "lista_1 = [10, 20, 30, 40, 50]\n"
   ]
  },
  {
   "cell_type": "code",
   "execution_count": null,
   "id": "834d8e4e",
   "metadata": {},
   "outputs": [],
   "source": [
    "# sumando los elementos de una lista, con sum()\n",
    "lista_1 = [10, 20, 30, 40, 50]\n"
   ]
  },
  {
   "cell_type": "code",
   "execution_count": null,
   "id": "95f0f2a2",
   "metadata": {},
   "outputs": [],
   "source": [
    "# saber si un elemento está contenido en una lista con 'in'\n",
    "lista_1 = [10, 20, 30, 40, 50]\n"
   ]
  },
  {
   "cell_type": "markdown",
   "id": "0d6eb7c8",
   "metadata": {},
   "source": [
    "## 2. Creando y utilizando una librería de funciones\n",
    "\n",
    "Una **líbrería** o **módulo** de Python es típicamente un archivo de texto con extensión .py (la misma extensión de los script de python). \n",
    "\n",
    "Como cualquier archivo de python, debe comenzar con un encabezado que permita al sistema operativo reconocer que este archivo debe ser tratado en un entorno de python e indicar el tipo de codificación utilizado.\n",
    "\n",
    "A continuación, debe existir una documentación que indique la utilidad de la librería y otros datos relevantes para su utilización y mantenimiento y luego todo el código que conforma el módulo."
   ]
  },
  {
   "cell_type": "code",
   "execution_count": null,
   "id": "92098bf8",
   "metadata": {},
   "outputs": [],
   "source": [
    "#! /usr/bin/env-python\n",
    "# -*- coding: utf-8 -*-\n",
    "\n",
    "# meteodatos - librería para la consulta de datos meteorológicos obtenidos desde\n",
    "# las bases de datos disponibles en https://climatologia.meteochile.gob.cl/application/index/menuTematicoEmas\n",
    "# versión: 0.1\n",
    "# fecha: abril de 2023\n",
    "# github: cmoralesd/aprendiendo-python\n",
    "\n",
    "# el código sigue aquí...\n"
   ]
  },
  {
   "cell_type": "code",
   "execution_count": null,
   "id": "a9665577",
   "metadata": {},
   "outputs": [],
   "source": [
    "# para importar el módulo en un script, se utiliza 'import'\n",
    "import meteodatos\n"
   ]
  },
  {
   "cell_type": "code",
   "execution_count": null,
   "id": "7f8cc44f",
   "metadata": {},
   "outputs": [],
   "source": [
    "def filtrar_dia(datos, dia):\n",
    "    # datos: una lista cuyas filas contienen los datos agrupados como una cadena de texto\n",
    "    # dia:   el día que se desea filtrar, en formato 'AAAA-MM-DD', ejemplo: '2023-03-01'\n",
    "    # retorna: la misma lista 'datos', pero conteniendo únicamente las filas\n",
    "    #          que coinciden con 'dia' y manteniendo la cabecera\n",
    "    \n",
    "    # TODO: Escriba su código aquí:\n",
    "    # from datetime import datetime\n",
    "\n",
    "    def filtrar_dia(datos, dia):\n",
    "    # Convertir el argumento 'dia' en un objeto datetime\n",
    "      dia_dt = datetime.strptime(dia, '%Y-%m-%d').date()\n",
    "    \n",
    "    # Filtrar las filas que coinciden con 'dia'\n",
    "    datos_filtrados = [datos[0]]  # Incluir la cabecera en los datos filtrados\n",
    "    for fila in datos[1:]:\n",
    "        fecha = datetime.strptime(fila.split(',')[0], '%Y-%m-%d').date()\n",
    "        if fecha == dia_dt:\n",
    "            datos_filtrados.append(fila)\n",
    "    \n",
    "    return datos_filtrados\n",
    "    # Su código termina aquí, luego se retornan los datos calculados\n",
    "    \n",
    "    return [] # reemplace la lista vacía [] por el resultado de su código\n"
   ]
  },
  {
   "cell_type": "code",
   "execution_count": null,
   "id": "d4129e2f",
   "metadata": {},
   "outputs": [],
   "source": [
    "filtrar_dia(mis_datos, '2023-03-01')"
   ]
  },
  {
   "cell_type": "code",
   "execution_count": null,
   "id": "87933561",
   "metadata": {},
   "outputs": [],
   "source": [
    "def estadisticas_dia(datos, dia):\n",
    "    # datos: una lista con datos leidos desde la base de datos meteorológicos,\n",
    "    #        mediante la función 'leer_archivo()'\n",
    "    # dia:   el día que se desea reportar, en formato 'AAAA-MM-DD', ejemplo: '2023-03-01'\n",
    "    # retorna: tmax, tmin, tmedia, la temperatura máxima, mínima y promedio para el día.\n",
    "    tmax = tmin = tmedia = 0\n",
    "    \n",
    "    # TODO: Escriba su código aquí:\n",
    "    def estadisticas_dia(datos, dia):\n",
    "    # Convertir el argumento 'dia' en un objeto datetime\n",
    "       from datetime import datetime\n",
    "    dia_dt = datetime.strptime(dia, '%Y-%m-%d').date()\n",
    "    \n",
    "    # Filtrar las filas que coinciden con 'dia'\n",
    "    datos_filtrados = []\n",
    "    for fila in datos:\n",
    "        fecha = datetime.strptime(fila.split(',')[0], '%Y-%m-%d').date()\n",
    "        if fecha == dia_dt:\n",
    "            datos_filtrados.append(fila)\n",
    "    \n",
    "    # Calcular las estadísticas diarias\n",
    "    n = len(datos_filtrados)\n",
    "    if n > 0:\n",
    "        tmax = max(float(fila.split(',')[1]) for fila in datos_filtrados)\n",
    "        tmin = min(float(fila.split(',')[2]) for fila in datos_filtrados)\n",
    "        tmedia = sum(float(fila.split(',')[3]) for fila in datos_filtrados) / n\n",
    "    \n",
    "    return tmax, tmin, tmedia\n",
    "\n",
    "    \n",
    "    # ---------------------------------------------\n",
    "    # Su código termina aquí, luego se retornan los datos calculados\n",
    "    \n",
    "    return tmax, tmin, tmedia\n",
    "    \n",
    "    "
   ]
  },
  {
   "cell_type": "code",
   "execution_count": null,
   "id": "4600e311",
   "metadata": {},
   "outputs": [],
   "source": [
    "estadistica_dia(mis_datos, '2023-03-01')"
   ]
  },
  {
   "cell_type": "code",
   "execution_count": null,
   "id": "d4154b2d",
   "metadata": {},
   "outputs": [],
   "source": [
    "# Una vez creada una librería, se puede importar como módulo de Python con 'import'\n",
    "import meteodatos"
   ]
  },
  {
   "cell_type": "code",
   "execution_count": null,
   "id": "71b62f3d",
   "metadata": {},
   "outputs": [],
   "source": []
  },
  {
   "cell_type": "markdown",
   "id": "5eb6db99",
   "metadata": {},
   "source": [
    "## ACTIVIDAD:\n",
    "\n",
    "Completar las funciones ```filtrar_dia()``` y ```estadisticas_dia()``` e incluirlas en la librería **meteodatos.py**.\n",
    "\n",
    "La función ```filtrar_dia()```recibe el conjunto de datos para un mes y, de ese conjunto de datos, retorna sólo aquellos datos que corresponden a un día en específico, conservando la fila de cabecera.\n",
    "\n",
    "La función ```estadisticas_dia()``` recibe el conjunto de datos para un mes, los filtra respecto de un día en específico, toma los datos bajo la cabecera de temperatura de superficie ```'ts'``` y, con ese conjunto de datos, calcula las estadísticas diarias de temperatura mínima, máxima y promedio. \n",
    "\n",
    "1. Complete la función ```filtrar_dia()```, siguiendo los siguientes pasos:\n",
    "- Cree una copia de la lista recibida en el parámetro ```datos``` y almacénela en una nueva variable con otro nombre.\n",
    "- Para cada fila de esta nueva variable, verifique si el texto recibido en el parámetro ```dia``` está contenido en esa fila. Si la fila corresponde a ```dia```, se debe conservar, en caso contrario la fila debe ser eliminada. El conjunto de datos resultante de este procedimiento corresponderá a los datos filtrados para ```dia```.\n",
    "- Asegúrese de incluir la fila de cabecera en el conjunto de datos filtrados y envíelo como retorno.\n",
    "\n",
    "2. Para construir la función ```estadisticas_dia()```, proceda de la siguiente forma:\n",
    "- Utilice las funciones ```filtrar_dia()``` y ```filtrar_cabecera()``` para crear una nueva lista que contenga únicamente los datos para el día especificado en el parámetro ```dia```, y que estén bajo la cabecera ```'ts'```.\n",
    "- Calcule los valores máximo, mínimo y promedio para la lista de datos filtrados.\n",
    "- Redonde el valor de promedio a 1 dígito decimal.\n",
    "- Retorne los valores calculados.\n",
    "\n",
    "3. Actualice la definición de las funciones ```filtrar_dia()``` y ```estadisticas_dia()``` en el archivo ***meteodatos.py***\n",
    "\n",
    "Para verificar que sus resultados son correctos reinicie el kernel de este cuaderno de Júpiter y ejecute el código que se entrega a continuación.\n",
    "\n",
    "**NOTA**: Recuerde que el archivo de datos **330075_202303_Temperatura.csv** y la librería **meteodatos.py** deben estar alojadas en la misma carpeta que este cuaderno de Jupyter.\n",
    "\n",
    "**NOTA 2**: Cada vez que haga cambios en el archivo **meteodatos.py** debe reiniciar el kernel de este cuaderno para actualizar los cambios en la importación de librería.\n"
   ]
  },
  {
   "cell_type": "code",
   "execution_count": null,
   "id": "424f4757",
   "metadata": {},
   "outputs": [],
   "source": [
    "# *** NO MODIFIQUE ESTA CELDA ***\n",
    "\n",
    "# importamos la librería requerida, utilizando un nombre corto\n",
    "import meteodatos as mtd\n",
    "\n",
    "# leemos el archivo de datos\n",
    "archivo = '330075_202303_Temperatura.csv'\n",
    "datos = mtd.leer_archivo(archivo)\n",
    "\n",
    "# seleccionamos el día requerido y obtenemos sus estadísticas de temperatura\n",
    "dia = '2023-03-31'\n",
    "tmax, tmin, tmedia = mtd.estadisticas_dia(datos, dia)\n",
    "\n",
    "# presentamos los resultados\n",
    "print(f'Las estadísticas para el día {dia} son:')\n",
    "print(f'temperatura máxima: {tmax} °C')\n",
    "print(f'temperatura mínima: {tmin} °C')\n",
    "print(f'temperatura promedio: {tmedia} °C')"
   ]
  },
  {
   "cell_type": "markdown",
   "id": "3faf048a",
   "metadata": {},
   "source": [
    "El resultado esperado es:\n",
    "```\n",
    "El archivo fue leido correctamente: 330075_202303_Temperatura.csv\n",
    "Las estadísticas para el día 2023-03-31 son:\n",
    "temperatura máxima: 33.8 °C\n",
    "temperatura mínima: 10.4 °C\n",
    "temperatura promedio: 21.1 °C\n",
    "```"
   ]
  },
  {
   "cell_type": "code",
   "execution_count": null,
   "id": "46ef0163",
   "metadata": {},
   "outputs": [],
   "source": [
    "`"
   ]
  }
 ],
 "metadata": {
  "kernelspec": {
   "display_name": "Python 3 (ipykernel)",
   "language": "python",
   "name": "python3"
  },
  "language_info": {
   "codemirror_mode": {
    "name": "ipython",
    "version": 3
   },
   "file_extension": ".py",
   "mimetype": "text/x-python",
   "name": "python",
   "nbconvert_exporter": "python",
   "pygments_lexer": "ipython3",
   "version": "3.10.6"
  }
 },
 "nbformat": 4,
 "nbformat_minor": 5
}
